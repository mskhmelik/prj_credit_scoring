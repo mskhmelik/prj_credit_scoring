{
 "cells": [
  {
   "attachments": {},
   "cell_type": "markdown",
   "metadata": {
    "pycharm": {
     "name": "#%% md\n"
    }
   },
   "source": [
    "# Project 2: Investigating borrower reliability\n",
    "\n",
    "## Introduction\n",
    "\n",
    "The client is a bank's credit department, and the objective is to determine whether a client's marital status and the number of children they have impact the timely repayment of loans. The bank provides input data consisting of clients' creditworthiness statistics.\n",
    "\n",
    "The results of this study will be incorporated into the development of a credit scoring model—a specialized system that evaluates a potential borrower's ability to repay a loan to the bank.\n",
    "\n",
    "**Research goals** - to test four hypotheses:\n",
    "\n",
    "1. Is there a correlation between having children and repaying a loan on time?\n",
    "2. Is there a correlation between marital status and repaying a loan on time?\n",
    "3. Is there a correlation between income level and repaying a loan on time?\n",
    "4. How do different loan purposes affect the timely repayment of loans?\n",
    "\n",
    "**Data description**\n",
    "\n",
    "The table consists of 12 columns:\n",
    "\n",
    "1. `children` — the number of children in the family\n",
    "2. `days_employed` — total employment history in days\n",
    "3. `dob_years` — client's age in years\n",
    "4. `education` — client's education level\n",
    "5. `education_id` — identifier for the education level\n",
    "6. `family_status` — marital status\n",
    "7. `family_status_id` — identifier for the marital status\n",
    "8. `gender` — client's gender\n",
    "9. `income_type` — type of employment\n",
    "10. `debt` — whether the client had debt related to loan repayment (yes/no)\n",
    "11. `total_income` — monthly income\n",
    "12. `purpose` — purpose of the loan\n",
    "\n",
    "Each row in the dataset represents a client. The data includes both categorical variables (such as education, income_type) and quantitative variables (like total_income, children). The data appears sufficient for testing the stated hypotheses.\n",
    "\n",
    "In the subsequent analysis, we will examine if there are any artifacts in the data that require attention. For now, it is worth noting that all column names are already recorded in the snake_case format."
   ]
  },
  {
   "attachments": {},
   "cell_type": "markdown",
   "metadata": {},
   "source": [
    "## Data preprocessing\n",
    "\n",
    "Initially, we need to examine the available data. Our areas of interest include:\n",
    "\n",
    "1. Artifacts in the data\n",
    "2. Missing (None) values in columns\n",
    "3. Duplicate rows, non-standard category names, and data types in columns\n",
    "4. Lookup tables\n",
    "5. Classification of total_income\n",
    "\n",
    "We will address these points one-by-one."
   ]
  },
  {
   "cell_type": "code",
   "execution_count": 3,
   "metadata": {
    "pycharm": {
     "name": "#%%\n"
    }
   },
   "outputs": [],
   "source": [
    "import pandas as pd\n",
    "import numpy as np\n",
    "from IPython.display import display\n",
    "\n",
    "try:\n",
    "    raw_df = pd.read_csv('/datasets/data.csv')\n",
    "except:\n",
    "    raw_df = pd.read_csv('raw_credit_scoring.csv')\n",
    "\n",
    "df = raw_df.copy()"
   ]
  },
  {
   "cell_type": "code",
   "execution_count": null,
   "metadata": {
    "pycharm": {
     "name": "#%%\n"
    }
   },
   "outputs": [
    {
     "name": "stdout",
     "output_type": "stream",
     "text": [
      "<class 'pandas.core.frame.DataFrame'>\n",
      "RangeIndex: 21525 entries, 0 to 21524\n",
      "Data columns (total 12 columns):\n",
      "children            21525 non-null int64\n",
      "days_employed       19351 non-null float64\n",
      "dob_years           21525 non-null int64\n",
      "education           21525 non-null object\n",
      "education_id        21525 non-null int64\n",
      "family_status       21525 non-null object\n",
      "family_status_id    21525 non-null int64\n",
      "gender              21525 non-null object\n",
      "income_type         21525 non-null object\n",
      "debt                21525 non-null int64\n",
      "total_income        19351 non-null float64\n",
      "purpose             21525 non-null object\n",
      "dtypes: float64(2), int64(5), object(5)\n",
      "memory usage: 2.0+ MB\n"
     ]
    }
   ],
   "source": [
    "df.info()"
   ]
  },
  {
   "attachments": {},
   "cell_type": "markdown",
   "metadata": {},
   "source": [
    "The first observation is that the categorical columns have `object` data type, representing text fields. Most of the quantitative columns have `float` data type, with the exception of `children` and `dob_years`, which have `int` data type (this makes sense, as the number of children cannot be a fraction).\n",
    "\n",
    "The second observation is that the columns have varying numbers of rows; both `days_employed` and `total_income` have approximately 2,000 fewer rows than the others. This suggests that some records (rows) are missing these values.\n",
    "\n",
    "Lastly, it appears that the columns `education_id` and `family_status_id` contain identifiers (keys) for different statuses in the `education` and `family_status` columns."
   ]
  },
  {
   "cell_type": "code",
   "execution_count": 6,
   "metadata": {
    "pycharm": {
     "name": "#%%\n"
    }
   },
   "outputs": [
    {
     "data": {
      "text/html": [
       "<div>\n",
       "<style scoped>\n",
       "    .dataframe tbody tr th:only-of-type {\n",
       "        vertical-align: middle;\n",
       "    }\n",
       "\n",
       "    .dataframe tbody tr th {\n",
       "        vertical-align: top;\n",
       "    }\n",
       "\n",
       "    .dataframe thead th {\n",
       "        text-align: right;\n",
       "    }\n",
       "</style>\n",
       "<table border=\"1\" class=\"dataframe\">\n",
       "  <thead>\n",
       "    <tr style=\"text-align: right;\">\n",
       "      <th></th>\n",
       "      <th>children</th>\n",
       "      <th>days_employed</th>\n",
       "      <th>dob_years</th>\n",
       "      <th>education</th>\n",
       "      <th>education_id</th>\n",
       "      <th>family_status</th>\n",
       "      <th>family_status_id</th>\n",
       "      <th>gender</th>\n",
       "      <th>income_type</th>\n",
       "      <th>debt</th>\n",
       "      <th>total_income</th>\n",
       "      <th>purpose</th>\n",
       "    </tr>\n",
       "  </thead>\n",
       "  <tbody>\n",
       "    <tr>\n",
       "      <th>0</th>\n",
       "      <td>1</td>\n",
       "      <td>-8437.673028</td>\n",
       "      <td>42</td>\n",
       "      <td>высшее</td>\n",
       "      <td>0</td>\n",
       "      <td>женат / замужем</td>\n",
       "      <td>0</td>\n",
       "      <td>F</td>\n",
       "      <td>сотрудник</td>\n",
       "      <td>0</td>\n",
       "      <td>253875.639453</td>\n",
       "      <td>покупка жилья</td>\n",
       "    </tr>\n",
       "    <tr>\n",
       "      <th>1</th>\n",
       "      <td>1</td>\n",
       "      <td>-4024.803754</td>\n",
       "      <td>36</td>\n",
       "      <td>среднее</td>\n",
       "      <td>1</td>\n",
       "      <td>женат / замужем</td>\n",
       "      <td>0</td>\n",
       "      <td>F</td>\n",
       "      <td>сотрудник</td>\n",
       "      <td>0</td>\n",
       "      <td>112080.014102</td>\n",
       "      <td>приобретение автомобиля</td>\n",
       "    </tr>\n",
       "    <tr>\n",
       "      <th>2</th>\n",
       "      <td>0</td>\n",
       "      <td>-5623.422610</td>\n",
       "      <td>33</td>\n",
       "      <td>Среднее</td>\n",
       "      <td>1</td>\n",
       "      <td>женат / замужем</td>\n",
       "      <td>0</td>\n",
       "      <td>M</td>\n",
       "      <td>сотрудник</td>\n",
       "      <td>0</td>\n",
       "      <td>145885.952297</td>\n",
       "      <td>покупка жилья</td>\n",
       "    </tr>\n",
       "    <tr>\n",
       "      <th>3</th>\n",
       "      <td>3</td>\n",
       "      <td>-4124.747207</td>\n",
       "      <td>32</td>\n",
       "      <td>среднее</td>\n",
       "      <td>1</td>\n",
       "      <td>женат / замужем</td>\n",
       "      <td>0</td>\n",
       "      <td>M</td>\n",
       "      <td>сотрудник</td>\n",
       "      <td>0</td>\n",
       "      <td>267628.550329</td>\n",
       "      <td>дополнительное образование</td>\n",
       "    </tr>\n",
       "    <tr>\n",
       "      <th>4</th>\n",
       "      <td>0</td>\n",
       "      <td>340266.072047</td>\n",
       "      <td>53</td>\n",
       "      <td>среднее</td>\n",
       "      <td>1</td>\n",
       "      <td>гражданский брак</td>\n",
       "      <td>1</td>\n",
       "      <td>F</td>\n",
       "      <td>пенсионер</td>\n",
       "      <td>0</td>\n",
       "      <td>158616.077870</td>\n",
       "      <td>сыграть свадьбу</td>\n",
       "    </tr>\n",
       "    <tr>\n",
       "      <th>5</th>\n",
       "      <td>0</td>\n",
       "      <td>-926.185831</td>\n",
       "      <td>27</td>\n",
       "      <td>высшее</td>\n",
       "      <td>0</td>\n",
       "      <td>гражданский брак</td>\n",
       "      <td>1</td>\n",
       "      <td>M</td>\n",
       "      <td>компаньон</td>\n",
       "      <td>0</td>\n",
       "      <td>255763.565419</td>\n",
       "      <td>покупка жилья</td>\n",
       "    </tr>\n",
       "    <tr>\n",
       "      <th>6</th>\n",
       "      <td>0</td>\n",
       "      <td>-2879.202052</td>\n",
       "      <td>43</td>\n",
       "      <td>высшее</td>\n",
       "      <td>0</td>\n",
       "      <td>женат / замужем</td>\n",
       "      <td>0</td>\n",
       "      <td>F</td>\n",
       "      <td>компаньон</td>\n",
       "      <td>0</td>\n",
       "      <td>240525.971920</td>\n",
       "      <td>операции с жильем</td>\n",
       "    </tr>\n",
       "    <tr>\n",
       "      <th>7</th>\n",
       "      <td>0</td>\n",
       "      <td>-152.779569</td>\n",
       "      <td>50</td>\n",
       "      <td>СРЕДНЕЕ</td>\n",
       "      <td>1</td>\n",
       "      <td>женат / замужем</td>\n",
       "      <td>0</td>\n",
       "      <td>M</td>\n",
       "      <td>сотрудник</td>\n",
       "      <td>0</td>\n",
       "      <td>135823.934197</td>\n",
       "      <td>образование</td>\n",
       "    </tr>\n",
       "    <tr>\n",
       "      <th>8</th>\n",
       "      <td>2</td>\n",
       "      <td>-6929.865299</td>\n",
       "      <td>35</td>\n",
       "      <td>ВЫСШЕЕ</td>\n",
       "      <td>0</td>\n",
       "      <td>гражданский брак</td>\n",
       "      <td>1</td>\n",
       "      <td>F</td>\n",
       "      <td>сотрудник</td>\n",
       "      <td>0</td>\n",
       "      <td>95856.832424</td>\n",
       "      <td>на проведение свадьбы</td>\n",
       "    </tr>\n",
       "    <tr>\n",
       "      <th>9</th>\n",
       "      <td>0</td>\n",
       "      <td>-2188.756445</td>\n",
       "      <td>41</td>\n",
       "      <td>среднее</td>\n",
       "      <td>1</td>\n",
       "      <td>женат / замужем</td>\n",
       "      <td>0</td>\n",
       "      <td>M</td>\n",
       "      <td>сотрудник</td>\n",
       "      <td>0</td>\n",
       "      <td>144425.938277</td>\n",
       "      <td>покупка жилья для семьи</td>\n",
       "    </tr>\n",
       "  </tbody>\n",
       "</table>\n",
       "</div>"
      ],
      "text/plain": [
       "   children  days_employed  dob_years education  education_id  \\\n",
       "0         1   -8437.673028         42    высшее             0   \n",
       "1         1   -4024.803754         36   среднее             1   \n",
       "2         0   -5623.422610         33   Среднее             1   \n",
       "3         3   -4124.747207         32   среднее             1   \n",
       "4         0  340266.072047         53   среднее             1   \n",
       "5         0    -926.185831         27    высшее             0   \n",
       "6         0   -2879.202052         43    высшее             0   \n",
       "7         0    -152.779569         50   СРЕДНЕЕ             1   \n",
       "8         2   -6929.865299         35    ВЫСШЕЕ             0   \n",
       "9         0   -2188.756445         41   среднее             1   \n",
       "\n",
       "      family_status  family_status_id gender income_type  debt   total_income  \\\n",
       "0   женат / замужем                 0      F   сотрудник     0  253875.639453   \n",
       "1   женат / замужем                 0      F   сотрудник     0  112080.014102   \n",
       "2   женат / замужем                 0      M   сотрудник     0  145885.952297   \n",
       "3   женат / замужем                 0      M   сотрудник     0  267628.550329   \n",
       "4  гражданский брак                 1      F   пенсионер     0  158616.077870   \n",
       "5  гражданский брак                 1      M   компаньон     0  255763.565419   \n",
       "6   женат / замужем                 0      F   компаньон     0  240525.971920   \n",
       "7   женат / замужем                 0      M   сотрудник     0  135823.934197   \n",
       "8  гражданский брак                 1      F   сотрудник     0   95856.832424   \n",
       "9   женат / замужем                 0      M   сотрудник     0  144425.938277   \n",
       "\n",
       "                      purpose  \n",
       "0               покупка жилья  \n",
       "1     приобретение автомобиля  \n",
       "2               покупка жилья  \n",
       "3  дополнительное образование  \n",
       "4             сыграть свадьбу  \n",
       "5               покупка жилья  \n",
       "6           операции с жильем  \n",
       "7                 образование  \n",
       "8       на проведение свадьбы  \n",
       "9     покупка жилья для семьи  "
      ]
     },
     "metadata": {},
     "output_type": "display_data"
    }
   ],
   "source": [
    "display(df.head(10))"
   ]
  },
  {
   "attachments": {},
   "cell_type": "markdown",
   "metadata": {},
   "source": [
    "From the first 10 rows, it is clear that the data needs to be processed before analysis. For example, in the `education` column, the data is not standardized: a value can be `СРЕДНЕЕ` or `Среднее`. In the `days_employed` column, we also encounter unusual values: either negative or greater than 300,000."
   ]
  },
  {
   "attachments": {},
   "cell_type": "markdown",
   "metadata": {},
   "source": [
    "### Artifacts in the Data\n",
    "\n",
    "Before we perform any operations with the data (such as replacing empty values with averages), let's check for and correct any possible artifacts."
   ]
  },
  {
   "cell_type": "code",
   "execution_count": 7,
   "metadata": {
    "pycharm": {
     "name": "#%%\n"
    }
   },
   "outputs": [
    {
     "data": {
      "text/html": [
       "<div>\n",
       "<style scoped>\n",
       "    .dataframe tbody tr th:only-of-type {\n",
       "        vertical-align: middle;\n",
       "    }\n",
       "\n",
       "    .dataframe tbody tr th {\n",
       "        vertical-align: top;\n",
       "    }\n",
       "\n",
       "    .dataframe thead th {\n",
       "        text-align: right;\n",
       "    }\n",
       "</style>\n",
       "<table border=\"1\" class=\"dataframe\">\n",
       "  <thead>\n",
       "    <tr style=\"text-align: right;\">\n",
       "      <th></th>\n",
       "      <th>children</th>\n",
       "      <th>days_employed</th>\n",
       "      <th>dob_years</th>\n",
       "      <th>total_income</th>\n",
       "    </tr>\n",
       "  </thead>\n",
       "  <tbody>\n",
       "    <tr>\n",
       "      <th>count</th>\n",
       "      <td>21525.0</td>\n",
       "      <td>19351.0</td>\n",
       "      <td>21525.0</td>\n",
       "      <td>19351.0</td>\n",
       "    </tr>\n",
       "    <tr>\n",
       "      <th>mean</th>\n",
       "      <td>0.5</td>\n",
       "      <td>63046.5</td>\n",
       "      <td>43.3</td>\n",
       "      <td>167422.3</td>\n",
       "    </tr>\n",
       "    <tr>\n",
       "      <th>std</th>\n",
       "      <td>1.4</td>\n",
       "      <td>140827.3</td>\n",
       "      <td>12.6</td>\n",
       "      <td>102971.6</td>\n",
       "    </tr>\n",
       "    <tr>\n",
       "      <th>min</th>\n",
       "      <td>-1.0</td>\n",
       "      <td>-18388.9</td>\n",
       "      <td>0.0</td>\n",
       "      <td>20667.3</td>\n",
       "    </tr>\n",
       "    <tr>\n",
       "      <th>25%</th>\n",
       "      <td>0.0</td>\n",
       "      <td>-2747.4</td>\n",
       "      <td>33.0</td>\n",
       "      <td>103053.2</td>\n",
       "    </tr>\n",
       "    <tr>\n",
       "      <th>50%</th>\n",
       "      <td>0.0</td>\n",
       "      <td>-1203.4</td>\n",
       "      <td>42.0</td>\n",
       "      <td>145017.9</td>\n",
       "    </tr>\n",
       "    <tr>\n",
       "      <th>75%</th>\n",
       "      <td>1.0</td>\n",
       "      <td>-291.1</td>\n",
       "      <td>53.0</td>\n",
       "      <td>203435.1</td>\n",
       "    </tr>\n",
       "    <tr>\n",
       "      <th>max</th>\n",
       "      <td>20.0</td>\n",
       "      <td>401755.4</td>\n",
       "      <td>75.0</td>\n",
       "      <td>2265604.0</td>\n",
       "    </tr>\n",
       "  </tbody>\n",
       "</table>\n",
       "</div>"
      ],
      "text/plain": [
       "       children  days_employed  dob_years  total_income\n",
       "count   21525.0        19351.0    21525.0       19351.0\n",
       "mean        0.5        63046.5       43.3      167422.3\n",
       "std         1.4       140827.3       12.6      102971.6\n",
       "min        -1.0       -18388.9        0.0       20667.3\n",
       "25%         0.0        -2747.4       33.0      103053.2\n",
       "50%         0.0        -1203.4       42.0      145017.9\n",
       "75%         1.0         -291.1       53.0      203435.1\n",
       "max        20.0       401755.4       75.0     2265604.0"
      ]
     },
     "execution_count": 7,
     "metadata": {},
     "output_type": "execute_result"
    }
   ],
   "source": [
    "columns_values =['children', 'days_employed', 'dob_years', 'total_income']\n",
    "\n",
    "columns_category = [\n",
    "    'education',\n",
    "    'education_id',\n",
    "    'family_status',\n",
    "    'family_status_id',\n",
    "    'gender',\n",
    "    'income_type',\n",
    "    'debt',\n",
    "    'purpose'\n",
    "]\n",
    "\n",
    "round(df[columns_values].describe(), 1)"
   ]
  },
  {
   "attachments": {},
   "cell_type": "markdown",
   "metadata": {},
   "source": [
    "We're not very fortunate: we encounter children counts of -1 and 20, applicants from nursery groups (with an age of zero), as well as negative (and millennia-long(!)) work experience.\n",
    "\n",
    "Under normal circumstances, I would have many questions for the owner of this data. However, since this is an educational exercise, I will correct these artifacts based on a few assumptions:\n",
    "\n",
    "1. `children = -1` and `children = 20` - likely due to some error correction logic in the system. It seems that upon input error, the database records -1. And 20 is an upper limit (also confirmed by the absence of values between 5 and 20). We will replace them with the average value for the corresponding `income_type` group. For example, a retiree is more likely to have several children, while a student has none. This assumption is a stretch for children = 20, but given the tight deadlines, I have no other options.\n",
    "\n",
    "2. We will do the same for `dob_years`. It is unlikely that we will see 60-year-old students or 20-year-old retirees.\n",
    "\n",
    "3. `days_employed` is slightly more complicated. We have two issues here: negative values and millennia-long experiences. We can fix the negative values with the abs() function (possibly due to data import errors). I thought that millennia might represent work experience in hours, not days. Since this column will not be used in hypothesis testing, we will simply remove it.\n",
    "\n",
    "Let's carry out these adjustments."
   ]
  },
  {
   "cell_type": "code",
   "execution_count": null,
   "metadata": {},
   "outputs": [
    {
     "data": {
      "text/html": [
       "<div>\n",
       "<style scoped>\n",
       "    .dataframe tbody tr th:only-of-type {\n",
       "        vertical-align: middle;\n",
       "    }\n",
       "\n",
       "    .dataframe tbody tr th {\n",
       "        vertical-align: top;\n",
       "    }\n",
       "\n",
       "    .dataframe thead th {\n",
       "        text-align: right;\n",
       "    }\n",
       "</style>\n",
       "<table border=\"1\" class=\"dataframe\">\n",
       "  <thead>\n",
       "    <tr style=\"text-align: right;\">\n",
       "      <th></th>\n",
       "      <th>children</th>\n",
       "      <th>dob_years</th>\n",
       "      <th>total_income</th>\n",
       "    </tr>\n",
       "  </thead>\n",
       "  <tbody>\n",
       "    <tr>\n",
       "      <td>count</td>\n",
       "      <td>21525.0</td>\n",
       "      <td>21525.0</td>\n",
       "      <td>19351.0</td>\n",
       "    </tr>\n",
       "    <tr>\n",
       "      <td>mean</td>\n",
       "      <td>0.5</td>\n",
       "      <td>43.5</td>\n",
       "      <td>167422.3</td>\n",
       "    </tr>\n",
       "    <tr>\n",
       "      <td>std</td>\n",
       "      <td>0.8</td>\n",
       "      <td>12.2</td>\n",
       "      <td>102971.6</td>\n",
       "    </tr>\n",
       "    <tr>\n",
       "      <td>min</td>\n",
       "      <td>0.0</td>\n",
       "      <td>19.0</td>\n",
       "      <td>20667.3</td>\n",
       "    </tr>\n",
       "    <tr>\n",
       "      <td>25%</td>\n",
       "      <td>0.0</td>\n",
       "      <td>34.0</td>\n",
       "      <td>103053.2</td>\n",
       "    </tr>\n",
       "    <tr>\n",
       "      <td>50%</td>\n",
       "      <td>0.0</td>\n",
       "      <td>43.0</td>\n",
       "      <td>145017.9</td>\n",
       "    </tr>\n",
       "    <tr>\n",
       "      <td>75%</td>\n",
       "      <td>1.0</td>\n",
       "      <td>53.0</td>\n",
       "      <td>203435.1</td>\n",
       "    </tr>\n",
       "    <tr>\n",
       "      <td>max</td>\n",
       "      <td>5.0</td>\n",
       "      <td>75.0</td>\n",
       "      <td>2265604.0</td>\n",
       "    </tr>\n",
       "  </tbody>\n",
       "</table>\n",
       "</div>"
      ],
      "text/plain": [
       "       children  dob_years  total_income\n",
       "count   21525.0    21525.0       19351.0\n",
       "mean        0.5       43.5      167422.3\n",
       "std         0.8       12.2      102971.6\n",
       "min         0.0       19.0       20667.3\n",
       "25%         0.0       34.0      103053.2\n",
       "50%         0.0       43.0      145017.9\n",
       "75%         1.0       53.0      203435.1\n",
       "max         5.0       75.0     2265604.0"
      ]
     },
     "execution_count": 5,
     "metadata": {},
     "output_type": "execute_result"
    }
   ],
   "source": [
    "# 1. Заменим подозрительное количество детей на NaN\n",
    "df.children = df.children.replace( { -1:np.nan, 20:np.nan } )\n",
    "\n",
    "# Заменим NaN на среднее количество детей в каждой категории income_type\n",
    "df.children = df.children.fillna( df.groupby( 'income_type' ).children.transform( 'mean' ) )\n",
    "\n",
    "# Убедимся, что все дети целочисленные. Мы сломали тип данных в этой колонке - починим в следующей секции\n",
    "df.children = round( df.children )\n",
    "\n",
    "# 2. Заменяем неродившихся в колонке dob_years на NaN\n",
    "df.dob_years = df.dob_years.replace( 0, np.nan )\n",
    "\n",
    "# Заменим NaN на средний возраст в каждой категории income_type\n",
    "df.dob_years = df.dob_years.fillna( df.groupby( 'income_type' ).dob_years.transform( 'mean' ) )\n",
    "\n",
    "# 3. Сделаем days_employed положительными\n",
    "df.drop( 'days_employed', inplace=True, axis=1 )\n",
    "columns_values.remove( 'days_employed' )\n",
    "\n",
    "# Проверим успех\n",
    "round( df[ columns_values ].describe(), 1 )"
   ]
  },
  {
   "attachments": {},
   "cell_type": "markdown",
   "metadata": {},
   "source": [
    "Ура! Эти значения теперь выглядит достаточно прилично. Посмотрим на вторую часть этого упражнения."
   ]
  },
  {
   "cell_type": "code",
   "execution_count": null,
   "metadata": {},
   "outputs": [
    {
     "name": "stdout",
     "output_type": "stream",
     "text": [
      "Название колонки: education\n",
      "Список уникальных значений:\n"
     ]
    },
    {
     "data": {
      "text/plain": [
       "среднее                13750\n",
       "высшее                  4718\n",
       "СРЕДНЕЕ                  772\n",
       "Среднее                  711\n",
       "неоконченное высшее      668\n",
       "ВЫСШЕЕ                   274\n",
       "Высшее                   268\n",
       "начальное                250\n",
       "Неоконченное высшее       47\n",
       "НЕОКОНЧЕННОЕ ВЫСШЕЕ       29\n",
       "НАЧАЛЬНОЕ                 17\n",
       "Начальное                 15\n",
       "ученая степень             4\n",
       "УЧЕНАЯ СТЕПЕНЬ             1\n",
       "Ученая степень             1\n",
       "Name: education, dtype: int64"
      ]
     },
     "metadata": {},
     "output_type": "display_data"
    },
    {
     "name": "stdout",
     "output_type": "stream",
     "text": [
      "--------------------------------------------------\n",
      "Название колонки: education_id\n",
      "Список уникальных значений:\n"
     ]
    },
    {
     "data": {
      "text/plain": [
       "1    15233\n",
       "0     5260\n",
       "2      744\n",
       "3      282\n",
       "4        6\n",
       "Name: education_id, dtype: int64"
      ]
     },
     "metadata": {},
     "output_type": "display_data"
    },
    {
     "name": "stdout",
     "output_type": "stream",
     "text": [
      "--------------------------------------------------\n",
      "Название колонки: family_status\n",
      "Список уникальных значений:\n"
     ]
    },
    {
     "data": {
      "text/plain": [
       "женат / замужем          12380\n",
       "гражданский брак          4177\n",
       "Не женат / не замужем     2813\n",
       "в разводе                 1195\n",
       "вдовец / вдова             960\n",
       "Name: family_status, dtype: int64"
      ]
     },
     "metadata": {},
     "output_type": "display_data"
    },
    {
     "name": "stdout",
     "output_type": "stream",
     "text": [
      "--------------------------------------------------\n",
      "Название колонки: family_status_id\n",
      "Список уникальных значений:\n"
     ]
    },
    {
     "data": {
      "text/plain": [
       "0    12380\n",
       "1     4177\n",
       "4     2813\n",
       "3     1195\n",
       "2      960\n",
       "Name: family_status_id, dtype: int64"
      ]
     },
     "metadata": {},
     "output_type": "display_data"
    },
    {
     "name": "stdout",
     "output_type": "stream",
     "text": [
      "--------------------------------------------------\n",
      "Название колонки: gender\n",
      "Список уникальных значений:\n"
     ]
    },
    {
     "data": {
      "text/plain": [
       "F      14236\n",
       "M       7288\n",
       "XNA        1\n",
       "Name: gender, dtype: int64"
      ]
     },
     "metadata": {},
     "output_type": "display_data"
    },
    {
     "name": "stdout",
     "output_type": "stream",
     "text": [
      "--------------------------------------------------\n",
      "Название колонки: income_type\n",
      "Список уникальных значений:\n"
     ]
    },
    {
     "data": {
      "text/plain": [
       "сотрудник          11119\n",
       "компаньон           5085\n",
       "пенсионер           3856\n",
       "госслужащий         1459\n",
       "безработный            2\n",
       "предприниматель        2\n",
       "студент                1\n",
       "в декрете              1\n",
       "Name: income_type, dtype: int64"
      ]
     },
     "metadata": {},
     "output_type": "display_data"
    },
    {
     "name": "stdout",
     "output_type": "stream",
     "text": [
      "--------------------------------------------------\n",
      "Название колонки: debt\n",
      "Список уникальных значений:\n"
     ]
    },
    {
     "data": {
      "text/plain": [
       "0    19784\n",
       "1     1741\n",
       "Name: debt, dtype: int64"
      ]
     },
     "metadata": {},
     "output_type": "display_data"
    },
    {
     "name": "stdout",
     "output_type": "stream",
     "text": [
      "--------------------------------------------------\n",
      "Название колонки: purpose\n",
      "Список уникальных значений:\n"
     ]
    },
    {
     "data": {
      "text/plain": [
       "свадьба                                   797\n",
       "на проведение свадьбы                     777\n",
       "сыграть свадьбу                           774\n",
       "операции с недвижимостью                  676\n",
       "покупка коммерческой недвижимости         664\n",
       "операции с жильем                         653\n",
       "покупка жилья для сдачи                   653\n",
       "операции с коммерческой недвижимостью     651\n",
       "покупка жилья                             647\n",
       "жилье                                     647\n",
       "покупка жилья для семьи                   641\n",
       "строительство собственной недвижимости    635\n",
       "недвижимость                              634\n",
       "операции со своей недвижимостью           630\n",
       "строительство жилой недвижимости          626\n",
       "покупка недвижимости                      624\n",
       "строительство недвижимости                620\n",
       "покупка своего жилья                      620\n",
       "ремонт жилью                              612\n",
       "покупка жилой недвижимости                607\n",
       "на покупку своего автомобиля              505\n",
       "заняться высшим образованием              496\n",
       "автомобиль                                495\n",
       "сделка с подержанным автомобилем          489\n",
       "свой автомобиль                           480\n",
       "на покупку подержанного автомобиля        479\n",
       "автомобили                                478\n",
       "на покупку автомобиля                     472\n",
       "дополнительное образование                462\n",
       "приобретение автомобиля                   462\n",
       "сделка с автомобилем                      455\n",
       "высшее образование                        453\n",
       "образование                               447\n",
       "получение дополнительного образования     447\n",
       "получение образования                     443\n",
       "профильное образование                    436\n",
       "получение высшего образования             426\n",
       "заняться образованием                     412\n",
       "Name: purpose, dtype: int64"
      ]
     },
     "metadata": {},
     "output_type": "display_data"
    },
    {
     "name": "stdout",
     "output_type": "stream",
     "text": [
      "--------------------------------------------------\n"
     ]
    }
   ],
   "source": [
    "# Проверим уникальные значения в 'категориальные' колонках\n",
    "for column in columns_category:\n",
    "    print( 'Название колонки:', column )\n",
    "    print( 'Список уникальных значений:' )\n",
    "    display( raw_df[ column ].value_counts() )\n",
    "    print( '-' * 50 )"
   ]
  },
  {
   "attachments": {},
   "cell_type": "markdown",
   "metadata": {},
   "source": [
    "Нам повезло: приключения нас ждут только в колонках `education` и `family_status` (разный регистр), `gender` (имеется странное значение `XNA`) и `purpose` (похожие по смыслу категории 'приобретение автомобиля' и 'покупка автомобиля'). Эти проблемы (кроме `XNA`) мы устраним в следующих секциях."
   ]
  },
  {
   "cell_type": "code",
   "execution_count": null,
   "metadata": {},
   "outputs": [],
   "source": [
    "# Уберем XNA из датасета\n",
    "df = df[ df.gender != 'XNA' ]"
   ]
  },
  {
   "attachments": {},
   "cell_type": "markdown",
   "metadata": {},
   "source": [
    "### 2 - Отсутствующие значения в стобцах\n",
    "Поехали дальше."
   ]
  },
  {
   "cell_type": "code",
   "execution_count": null,
   "metadata": {},
   "outputs": [
    {
     "data": {
      "text/plain": [
       "children               0\n",
       "dob_years              0\n",
       "education              0\n",
       "education_id           0\n",
       "family_status          0\n",
       "family_status_id       0\n",
       "gender                 0\n",
       "income_type            0\n",
       "debt                   0\n",
       "total_income        2174\n",
       "purpose                0\n",
       "dtype: int64"
      ]
     },
     "execution_count": 8,
     "metadata": {},
     "output_type": "execute_result"
    }
   ],
   "source": [
    "# Посчитаем количество пропусков в данных\n",
    "df.isna().sum()"
   ]
  },
  {
   "attachments": {},
   "cell_type": "markdown",
   "metadata": {},
   "source": [
    "Как мы и предполагали - у нас есть пропуски в колонке `total_income`. Посмотрим какую долю от общего количества строк они составляют."
   ]
  },
  {
   "attachments": {},
   "cell_type": "markdown",
   "metadata": {},
   "source": [
    "Количество пустых значений также равно 2174 - значит в одной строчке значение пропущено в двух столбцах. Тогда можем работать с пустыми значениями построчно.\n",
    "\n",
    "Теперь проверим какую долю пустые строки занимают во всем датасете."
   ]
  },
  {
   "cell_type": "code",
   "execution_count": null,
   "metadata": {},
   "outputs": [
    {
     "name": "stdout",
     "output_type": "stream",
     "text": [
      "Доля пустых строк в датасете: 10.1 %\n"
     ]
    },
    {
     "data": {
      "text/html": [
       "<div>\n",
       "<style scoped>\n",
       "    .dataframe tbody tr th:only-of-type {\n",
       "        vertical-align: middle;\n",
       "    }\n",
       "\n",
       "    .dataframe tbody tr th {\n",
       "        vertical-align: top;\n",
       "    }\n",
       "\n",
       "    .dataframe thead th {\n",
       "        text-align: right;\n",
       "    }\n",
       "</style>\n",
       "<table border=\"1\" class=\"dataframe\">\n",
       "  <thead>\n",
       "    <tr style=\"text-align: right;\">\n",
       "      <th></th>\n",
       "      <th>children</th>\n",
       "      <th>dob_years</th>\n",
       "      <th>education</th>\n",
       "      <th>education_id</th>\n",
       "      <th>family_status</th>\n",
       "      <th>family_status_id</th>\n",
       "      <th>gender</th>\n",
       "      <th>income_type</th>\n",
       "      <th>debt</th>\n",
       "      <th>total_income</th>\n",
       "      <th>purpose</th>\n",
       "    </tr>\n",
       "  </thead>\n",
       "  <tbody>\n",
       "    <tr>\n",
       "      <td>12</td>\n",
       "      <td>0.0</td>\n",
       "      <td>65.0</td>\n",
       "      <td>среднее</td>\n",
       "      <td>1</td>\n",
       "      <td>гражданский брак</td>\n",
       "      <td>1</td>\n",
       "      <td>M</td>\n",
       "      <td>пенсионер</td>\n",
       "      <td>0</td>\n",
       "      <td>NaN</td>\n",
       "      <td>сыграть свадьбу</td>\n",
       "    </tr>\n",
       "    <tr>\n",
       "      <td>26</td>\n",
       "      <td>0.0</td>\n",
       "      <td>41.0</td>\n",
       "      <td>среднее</td>\n",
       "      <td>1</td>\n",
       "      <td>женат / замужем</td>\n",
       "      <td>0</td>\n",
       "      <td>M</td>\n",
       "      <td>госслужащий</td>\n",
       "      <td>0</td>\n",
       "      <td>NaN</td>\n",
       "      <td>образование</td>\n",
       "    </tr>\n",
       "    <tr>\n",
       "      <td>29</td>\n",
       "      <td>0.0</td>\n",
       "      <td>63.0</td>\n",
       "      <td>среднее</td>\n",
       "      <td>1</td>\n",
       "      <td>Не женат / не замужем</td>\n",
       "      <td>4</td>\n",
       "      <td>F</td>\n",
       "      <td>пенсионер</td>\n",
       "      <td>0</td>\n",
       "      <td>NaN</td>\n",
       "      <td>строительство жилой недвижимости</td>\n",
       "    </tr>\n",
       "    <tr>\n",
       "      <td>41</td>\n",
       "      <td>0.0</td>\n",
       "      <td>50.0</td>\n",
       "      <td>среднее</td>\n",
       "      <td>1</td>\n",
       "      <td>женат / замужем</td>\n",
       "      <td>0</td>\n",
       "      <td>F</td>\n",
       "      <td>госслужащий</td>\n",
       "      <td>0</td>\n",
       "      <td>NaN</td>\n",
       "      <td>сделка с подержанным автомобилем</td>\n",
       "    </tr>\n",
       "    <tr>\n",
       "      <td>55</td>\n",
       "      <td>0.0</td>\n",
       "      <td>54.0</td>\n",
       "      <td>среднее</td>\n",
       "      <td>1</td>\n",
       "      <td>гражданский брак</td>\n",
       "      <td>1</td>\n",
       "      <td>F</td>\n",
       "      <td>пенсионер</td>\n",
       "      <td>1</td>\n",
       "      <td>NaN</td>\n",
       "      <td>сыграть свадьбу</td>\n",
       "    </tr>\n",
       "  </tbody>\n",
       "</table>\n",
       "</div>"
      ],
      "text/plain": [
       "    children  dob_years education  education_id          family_status  \\\n",
       "12       0.0       65.0   среднее             1       гражданский брак   \n",
       "26       0.0       41.0   среднее             1        женат / замужем   \n",
       "29       0.0       63.0   среднее             1  Не женат / не замужем   \n",
       "41       0.0       50.0   среднее             1        женат / замужем   \n",
       "55       0.0       54.0   среднее             1       гражданский брак   \n",
       "\n",
       "    family_status_id gender  income_type  debt  total_income  \\\n",
       "12                 1      M    пенсионер     0           NaN   \n",
       "26                 0      M  госслужащий     0           NaN   \n",
       "29                 4      F    пенсионер     0           NaN   \n",
       "41                 0      F  госслужащий     0           NaN   \n",
       "55                 1      F    пенсионер     1           NaN   \n",
       "\n",
       "                             purpose  \n",
       "12                   сыграть свадьбу  \n",
       "26                       образование  \n",
       "29  строительство жилой недвижимости  \n",
       "41  сделка с подержанным автомобилем  \n",
       "55                   сыграть свадьбу  "
      ]
     },
     "metadata": {},
     "output_type": "display_data"
    }
   ],
   "source": [
    "# Поделим количество пропущенных строк в total_income на общее количесто строк (возьмем children как колонку со всеми значениями)\n",
    "print( 'Доля пустых строк в датасете:', round( df.total_income.isna().sum() / df.children.count() * 100, 1), '%'  )\n",
    "display( df[ df.total_income.isna() ].head() )"
   ]
  },
  {
   "attachments": {},
   "cell_type": "markdown",
   "metadata": {},
   "source": [
    "Нам опять повезло: количество пропущенных значений относительно мало. Похоже, что они все случайны: вряд ли у нас был мужчина-госслужащий даже со средним образованием без опыта работы и без какого-либо заработка (см. строку 26). Поэтому, мы можем заменить эти значения средними в рамках одного типа занятости: такой подход несильно исказит общую картину, учитывая, что у нас может быть большой разбег в значениях дохода для разных групп."
   ]
  },
  {
   "cell_type": "code",
   "execution_count": null,
   "metadata": {},
   "outputs": [],
   "source": [
    "# Перезапишем колонку totol_income. Теперь вместо пустых значений будут стоять средние значения для каждой категории income_type\n",
    "df.total_income = df.total_income.fillna( df.groupby('income_type').total_income.transform( 'mean' ) )"
   ]
  },
  {
   "attachments": {},
   "cell_type": "markdown",
   "metadata": {},
   "source": [
    "### 3 - Повторяющиеся строки, нестандратные названия категорий и типы данных в колонках\n",
    "\n",
    "Пора посмотреть на возможные повторы. Т.к. у нас нету уникальных идентификаторов записи в датасете, то я подойду к проблеме напрямую: если есть строчки, где все значения одинаковые - будем считать это дубликатом.\n",
    "\n",
    "В новом задании предлагается сначала стандартизировать регистр и типы данных. Я предлагаю сначала удалить дубликаты, а потом уже приступить к стандартизации: во-первых, `total_income` имеет много знаков после запятой (может, значение было переведено из одной валюты в другую) - этим можно повысить \"уникальность\" строки; во-вторых, если предположить, что разный регистр в `income_type` - это следствие ручного ввода данных человеком, то это тоже поможет избежать удаления лишних строк."
   ]
  },
  {
   "cell_type": "code",
   "execution_count": null,
   "metadata": {},
   "outputs": [
    {
     "name": "stdout",
     "output_type": "stream",
     "text": [
      "Количество повторяющихся строк: 54\n"
     ]
    },
    {
     "data": {
      "text/html": [
       "<div>\n",
       "<style scoped>\n",
       "    .dataframe tbody tr th:only-of-type {\n",
       "        vertical-align: middle;\n",
       "    }\n",
       "\n",
       "    .dataframe tbody tr th {\n",
       "        vertical-align: top;\n",
       "    }\n",
       "\n",
       "    .dataframe thead th {\n",
       "        text-align: right;\n",
       "    }\n",
       "</style>\n",
       "<table border=\"1\" class=\"dataframe\">\n",
       "  <thead>\n",
       "    <tr style=\"text-align: right;\">\n",
       "      <th></th>\n",
       "      <th>children</th>\n",
       "      <th>dob_years</th>\n",
       "      <th>education</th>\n",
       "      <th>education_id</th>\n",
       "      <th>family_status</th>\n",
       "      <th>family_status_id</th>\n",
       "      <th>gender</th>\n",
       "      <th>income_type</th>\n",
       "      <th>debt</th>\n",
       "      <th>total_income</th>\n",
       "      <th>purpose</th>\n",
       "    </tr>\n",
       "  </thead>\n",
       "  <tbody>\n",
       "    <tr>\n",
       "      <td>18349</td>\n",
       "      <td>1.0</td>\n",
       "      <td>30.0</td>\n",
       "      <td>высшее</td>\n",
       "      <td>0</td>\n",
       "      <td>женат / замужем</td>\n",
       "      <td>0</td>\n",
       "      <td>F</td>\n",
       "      <td>госслужащий</td>\n",
       "      <td>0</td>\n",
       "      <td>170898.309923</td>\n",
       "      <td>покупка жилья для семьи</td>\n",
       "    </tr>\n",
       "    <tr>\n",
       "      <td>14432</td>\n",
       "      <td>2.0</td>\n",
       "      <td>36.0</td>\n",
       "      <td>высшее</td>\n",
       "      <td>0</td>\n",
       "      <td>женат / замужем</td>\n",
       "      <td>0</td>\n",
       "      <td>F</td>\n",
       "      <td>госслужащий</td>\n",
       "      <td>0</td>\n",
       "      <td>170898.309923</td>\n",
       "      <td>получение образования</td>\n",
       "    </tr>\n",
       "    <tr>\n",
       "      <td>13878</td>\n",
       "      <td>1.0</td>\n",
       "      <td>31.0</td>\n",
       "      <td>среднее</td>\n",
       "      <td>1</td>\n",
       "      <td>женат / замужем</td>\n",
       "      <td>0</td>\n",
       "      <td>F</td>\n",
       "      <td>компаньон</td>\n",
       "      <td>0</td>\n",
       "      <td>202417.136353</td>\n",
       "      <td>покупка жилья</td>\n",
       "    </tr>\n",
       "    <tr>\n",
       "      <td>19387</td>\n",
       "      <td>0.0</td>\n",
       "      <td>38.0</td>\n",
       "      <td>высшее</td>\n",
       "      <td>0</td>\n",
       "      <td>гражданский брак</td>\n",
       "      <td>1</td>\n",
       "      <td>F</td>\n",
       "      <td>компаньон</td>\n",
       "      <td>0</td>\n",
       "      <td>202417.136353</td>\n",
       "      <td>на проведение свадьбы</td>\n",
       "    </tr>\n",
       "    <tr>\n",
       "      <td>10697</td>\n",
       "      <td>0.0</td>\n",
       "      <td>40.0</td>\n",
       "      <td>среднее</td>\n",
       "      <td>1</td>\n",
       "      <td>гражданский брак</td>\n",
       "      <td>1</td>\n",
       "      <td>F</td>\n",
       "      <td>компаньон</td>\n",
       "      <td>0</td>\n",
       "      <td>202417.136353</td>\n",
       "      <td>сыграть свадьбу</td>\n",
       "    </tr>\n",
       "  </tbody>\n",
       "</table>\n",
       "</div>"
      ],
      "text/plain": [
       "       children  dob_years education  education_id     family_status  \\\n",
       "18349       1.0       30.0    высшее             0   женат / замужем   \n",
       "14432       2.0       36.0    высшее             0   женат / замужем   \n",
       "13878       1.0       31.0   среднее             1   женат / замужем   \n",
       "19387       0.0       38.0    высшее             0  гражданский брак   \n",
       "10697       0.0       40.0   среднее             1  гражданский брак   \n",
       "\n",
       "       family_status_id gender  income_type  debt   total_income  \\\n",
       "18349                 0      F  госслужащий     0  170898.309923   \n",
       "14432                 0      F  госслужащий     0  170898.309923   \n",
       "13878                 0      F    компаньон     0  202417.136353   \n",
       "19387                 1      F    компаньон     0  202417.136353   \n",
       "10697                 1      F    компаньон     0  202417.136353   \n",
       "\n",
       "                       purpose  \n",
       "18349  покупка жилья для семьи  \n",
       "14432    получение образования  \n",
       "13878            покупка жилья  \n",
       "19387    на проведение свадьбы  \n",
       "10697          сыграть свадьбу  "
      ]
     },
     "metadata": {},
     "output_type": "display_data"
    }
   ],
   "source": [
    "# Посчитаем количество повторяющихся строк (без учета первой встретившейся строки)\n",
    "print( 'Количество повторяющихся строк:', df.duplicated().sum() )\n",
    "\n",
    "# Посмотрим на виноватых\n",
    "display( df[ df.duplicated() ].sort_values( by=['income_type', 'dob_years'] ).head() )"
   ]
  },
  {
   "attachments": {},
   "cell_type": "markdown",
   "metadata": {},
   "source": [
    "Похоже, все повторяющиеся строки случайны: в этих заявках не были указаны значения `total_income` (поэтому они одинаковые - мы их заменили средними). Так как мы не значем что такое NaN в контексте этих данных (значение не указано, потому что пропустили или потому что оно равно нулю), то простым решением будет вырезать эти строки из датасета."
   ]
  },
  {
   "cell_type": "code",
   "execution_count": null,
   "metadata": {},
   "outputs": [
    {
     "name": "stdout",
     "output_type": "stream",
     "text": [
      "<class 'pandas.core.frame.DataFrame'>\n",
      "Int64Index: 21470 entries, 0 to 21524\n",
      "Data columns (total 11 columns):\n",
      "children            21470 non-null int64\n",
      "dob_years           21470 non-null int64\n",
      "education           21470 non-null object\n",
      "education_id        21470 non-null int64\n",
      "family_status       21470 non-null object\n",
      "family_status_id    21470 non-null int64\n",
      "gender              21470 non-null object\n",
      "income_type         21470 non-null object\n",
      "debt                21470 non-null int64\n",
      "total_income        21470 non-null int64\n",
      "purpose             21470 non-null object\n",
      "dtypes: int64(6), object(5)\n",
      "memory usage: 2.0+ MB\n"
     ]
    }
   ],
   "source": [
    "# Уберем повторяющиеся строки - сделаем это до исправления регистра\n",
    "df = df.drop_duplicates()\n",
    "\n",
    "# Нижний регистр для образования и семейного положения\n",
    "for column in ['education', 'family_status']:\n",
    "    df[ column ] = df[ column ].str.lower()\n",
    "    \n",
    "# Зададим тип данных в колонках\n",
    "df[ [ 'children', 'dob_years', 'total_income' ] ] = df[ [ 'children', 'dob_years', 'total_income' ] ].astype('int64')\n",
    "\n",
    "# Посмотрим, что получилось\n",
    "df.info()"
   ]
  },
  {
   "attachments": {},
   "cell_type": "markdown",
   "metadata": {},
   "source": [
    "### 4 - Словари (lookup tables)\n",
    "\n",
    "В датасете у нас есть две колонки, которые могут быть использованы как ключи - `education_id` и `family_status_id`. Выделим их и соответсвтующие словари в отдельные таблицы."
   ]
  },
  {
   "cell_type": "code",
   "execution_count": null,
   "metadata": {},
   "outputs": [],
   "source": [
    "# Словарь education\n",
    "lut_education = df[ [ 'education_id', 'education' ] ].drop_duplicates().reset_index( drop=True )\n",
    "\n",
    "# Словарь family_status\n",
    "lut_family_status = df[ [ 'family_status_id', 'family_status' ] ].drop_duplicates().reset_index( drop=True )"
   ]
  },
  {
   "attachments": {},
   "cell_type": "markdown",
   "metadata": {},
   "source": [
    "### 5 - Классификация `total_income`"
   ]
  },
  {
   "attachments": {},
   "cell_type": "markdown",
   "metadata": {},
   "source": [
    "На основании диапазонов, указанных ниже, создадим столбец `total_income_category` с категориями:\n",
    "- **E**: 0 – 30,000\n",
    "- **D**: 30,001 – 50,000\n",
    "- **C**: 50,001 – 200,000\n",
    "- **B**: 200,001 – 1,000,000\n",
    "- **A**: 1,000,001 и выше."
   ]
  },
  {
   "cell_type": "code",
   "execution_count": null,
   "metadata": {},
   "outputs": [],
   "source": [
    "# Функция для категоризации\n",
    "def fun_categorizer_total_income( value_for_categorization ):\n",
    "    \"\"\"\n",
    "    This function allocates a category for a variable based on its value. \n",
    "\n",
    "    Args:\n",
    "        value_for_categorization ([float or int]): value for categorization\n",
    "\n",
    "    Returns:\n",
    "        - 'E' if value_for_categorization <= 30,000\n",
    "        - 'D' if value_for_categorization = [30,001 : 50,000]\n",
    "        - 'C' if value_for_categorization = [50,001 : 200,000]\n",
    "        - 'B' if value_for_categorization = [200,001 : 1,000,000]\n",
    "        - 'A' if value_for_categorization >= 1,000,001\n",
    "    \"\"\"\n",
    "    if value_for_categorization <= 30e3:\n",
    "        return 'E'\n",
    "    elif 30e3 < value_for_categorization <= 50e3:\n",
    "        return 'D'\n",
    "    elif 50e3 < value_for_categorization <= 200e3:\n",
    "        return 'C'\n",
    "    elif 200e3 < value_for_categorization <= 1e6:\n",
    "        return 'B'\n",
    "    else:\n",
    "        return 'A'\n",
    "\n",
    "# Применим функцию к датасету\n",
    "df[ 'total_income_category' ] = df.total_income.apply( fun_categorizer_total_income )"
   ]
  },
  {
   "attachments": {},
   "cell_type": "markdown",
   "metadata": {},
   "source": [
    "### 6 - Классификация `purpose`\n",
    "\n",
    "Наконец, пора добавить стандартные категории к колонке `purpose`."
   ]
  },
  {
   "cell_type": "code",
   "execution_count": null,
   "metadata": {},
   "outputs": [],
   "source": [
    "# Заколхозим\n",
    "def fun_categorizer_purpose( string_for_categorization ):\n",
    "    \"\"\"\n",
    "    This function categorizes a string if a particular set of characters is present. \n",
    "\n",
    "    Args:\n",
    "        string_for_categorization [str]: string, where a set of characters is checked\n",
    "\n",
    "    Returns:\n",
    "        - 'операции с автомобилем' if string contains 'авто'\n",
    "        - 'операции с недвижимостью' if string contains 'нед' or 'жил'\n",
    "        - 'проведение свадьбы' if string contains 'свад'\n",
    "        - 'получение образования' if string contains 'образ'\n",
    "    \"\"\"\n",
    "    if 'авто' in string_for_categorization:\n",
    "        return 'операции с автомобилем'\n",
    "    elif 'свад' in string_for_categorization:\n",
    "        return 'проведение свадьбы'\n",
    "    elif 'образ' in string_for_categorization:\n",
    "        return 'получение образования'\n",
    "    else:\n",
    "        return 'операции с недвижимостью'\n",
    "\n",
    "df[ 'purpose_category' ] = df.purpose.apply( fun_categorizer_purpose )"
   ]
  },
  {
   "attachments": {},
   "cell_type": "markdown",
   "metadata": {},
   "source": [
    "На этом можно закончить предобработку данных. Пора заняться исследованием!"
   ]
  },
  {
   "attachments": {},
   "cell_type": "markdown",
   "metadata": {},
   "source": [
    "## Проверка гипотез\n",
    "\n",
    "Нам надо проверить 4 гипотезы:\n",
    "\n",
    "1. Есть ли зависимость между наличием детей и возвратом кредита в срок?\n",
    "2. Есть ли зависимость между семейным положением и возвратом кредита в срок?\n",
    "3. Есть ли зависимость между уровнем дохода и возвратом кредита в срок?\n",
    "4. Как разные цели кредита влияют на его возврат в срок?\n",
    "\n",
    "Процесс проверки будет простым: для каждого из этих вопросов построим сводную таблицу. Строки таблицы будут соответствовать категориям, а столбцы - общему количеству людей в категории, количеству людей вернувших кредит в срок, количеству людей невернувших кредит в срок. На основе этих колонок вычислим соответсвтующие доли и потом сделаем вывод.\n",
    "\n",
    "Скажем, если разница между категориями более 3% - это статистически значимо, а значит зависимость есть. В обртном случае - зависимости нет. Я не имею опыта в статистике, но подозреваю, что в серьезном упражнении 3% были бы более аргументированы."
   ]
  },
  {
   "cell_type": "code",
   "execution_count": null,
   "metadata": {},
   "outputs": [],
   "source": [
    "# Сделаем функцию, которая будет выдавать нам результаты\n",
    "def fun_counter( data, rows ):\n",
    "    # Сводная таблица #1 - влияние наличия детей\n",
    "    pivot = pd.pivot_table( df, \n",
    "                            values='gender', \n",
    "                            index=rows, \n",
    "                            columns='debt', \n",
    "                            aggfunc='count', \n",
    "                            fill_value=0 )\n",
    "\n",
    "    # Поправим названия колонок, чтобы легче было жить\n",
    "    pivot = pivot.rename( columns={ 0:'people_without_debt_no', 1:'people_with_debt_no' }, level=0 )\n",
    "\n",
    "    # Суммарное количество людей в категории\n",
    "    pivot['people_total'] = pivot.people_without_debt_no + pivot.people_with_debt_no\n",
    "\n",
    "    # Доля людей имеющих и не имеющих задолжность\n",
    "    pivot['people_without_debt_per'] = pivot.people_without_debt_no / pivot.people_total\n",
    "    pivot['people_with_debt_per'] = pivot.people_with_debt_no / pivot.people_total\n",
    "      \n",
    "    # Возвращаем табличку\n",
    "    return pivot.sort_values( by=[ 'people_with_debt_per', 'people_total' ] )"
   ]
  },
  {
   "attachments": {},
   "cell_type": "markdown",
   "metadata": {},
   "source": [
    "### 1 - Зависимость между наличием детей и возвратом кредита в срок\n",
    "\n",
    "Проверим, что получилось для первой гипотезы."
   ]
  },
  {
   "cell_type": "code",
   "execution_count": null,
   "metadata": {},
   "outputs": [
    {
     "data": {
      "text/html": [
       "<div>\n",
       "<style scoped>\n",
       "    .dataframe tbody tr th:only-of-type {\n",
       "        vertical-align: middle;\n",
       "    }\n",
       "\n",
       "    .dataframe tbody tr th {\n",
       "        vertical-align: top;\n",
       "    }\n",
       "\n",
       "    .dataframe thead th {\n",
       "        text-align: right;\n",
       "    }\n",
       "</style>\n",
       "<table border=\"1\" class=\"dataframe\">\n",
       "  <thead>\n",
       "    <tr style=\"text-align: right;\">\n",
       "      <th>debt</th>\n",
       "      <th>people_without_debt_no</th>\n",
       "      <th>people_with_debt_no</th>\n",
       "      <th>people_total</th>\n",
       "      <th>people_without_debt_per</th>\n",
       "      <th>people_with_debt_per</th>\n",
       "    </tr>\n",
       "    <tr>\n",
       "      <th>children</th>\n",
       "      <th></th>\n",
       "      <th></th>\n",
       "      <th></th>\n",
       "      <th></th>\n",
       "      <th></th>\n",
       "    </tr>\n",
       "  </thead>\n",
       "  <tbody>\n",
       "    <tr>\n",
       "      <td>5</td>\n",
       "      <td>9</td>\n",
       "      <td>0</td>\n",
       "      <td>9</td>\n",
       "      <td>1.000000</td>\n",
       "      <td>0.000000</td>\n",
       "    </tr>\n",
       "    <tr>\n",
       "      <td>0</td>\n",
       "      <td>13060</td>\n",
       "      <td>1063</td>\n",
       "      <td>14123</td>\n",
       "      <td>0.924733</td>\n",
       "      <td>0.075267</td>\n",
       "    </tr>\n",
       "    <tr>\n",
       "      <td>3</td>\n",
       "      <td>303</td>\n",
       "      <td>27</td>\n",
       "      <td>330</td>\n",
       "      <td>0.918182</td>\n",
       "      <td>0.081818</td>\n",
       "    </tr>\n",
       "    <tr>\n",
       "      <td>1</td>\n",
       "      <td>4462</td>\n",
       "      <td>453</td>\n",
       "      <td>4915</td>\n",
       "      <td>0.907833</td>\n",
       "      <td>0.092167</td>\n",
       "    </tr>\n",
       "    <tr>\n",
       "      <td>2</td>\n",
       "      <td>1858</td>\n",
       "      <td>194</td>\n",
       "      <td>2052</td>\n",
       "      <td>0.905458</td>\n",
       "      <td>0.094542</td>\n",
       "    </tr>\n",
       "    <tr>\n",
       "      <td>4</td>\n",
       "      <td>37</td>\n",
       "      <td>4</td>\n",
       "      <td>41</td>\n",
       "      <td>0.902439</td>\n",
       "      <td>0.097561</td>\n",
       "    </tr>\n",
       "  </tbody>\n",
       "</table>\n",
       "</div>"
      ],
      "text/plain": [
       "debt      people_without_debt_no  people_with_debt_no  people_total  \\\n",
       "children                                                              \n",
       "5                              9                    0             9   \n",
       "0                          13060                 1063         14123   \n",
       "3                            303                   27           330   \n",
       "1                           4462                  453          4915   \n",
       "2                           1858                  194          2052   \n",
       "4                             37                    4            41   \n",
       "\n",
       "debt      people_without_debt_per  people_with_debt_per  \n",
       "children                                                 \n",
       "5                        1.000000              0.000000  \n",
       "0                        0.924733              0.075267  \n",
       "3                        0.918182              0.081818  \n",
       "1                        0.907833              0.092167  \n",
       "2                        0.905458              0.094542  \n",
       "4                        0.902439              0.097561  "
      ]
     },
     "metadata": {},
     "output_type": "display_data"
    }
   ],
   "source": [
    "display( fun_counter( df, 'children' ) )"
   ]
  },
  {
   "attachments": {},
   "cell_type": "markdown",
   "metadata": {},
   "source": [
    "Первое, что бросается в глаза - не все категории достаточно большие, чтобы делать выводы. Так, у нас есть мало людей у кого есть 3, 4 и 5 детей, но сильно больше (почти в 10 раз) людей, у кого нет детей, есть 1 или 2 ребенка.\n",
    "\n",
    "**Вывод:** Тем не менее, соагласно нашему критерию в 3% непохоже, чтобы была какая-то значимая зависимость между наличием детей и возвратом кредита в срок. Во всех категориях вероятность возврата состовляет около 90%"
   ]
  },
  {
   "attachments": {},
   "cell_type": "markdown",
   "metadata": {},
   "source": [
    "### 2 - Зависимость между семейным положением и возвратом кредита в срок\n",
    "\n",
    "Проверим, что получилось для второй гипотезы."
   ]
  },
  {
   "cell_type": "code",
   "execution_count": null,
   "metadata": {},
   "outputs": [
    {
     "data": {
      "text/html": [
       "<div>\n",
       "<style scoped>\n",
       "    .dataframe tbody tr th:only-of-type {\n",
       "        vertical-align: middle;\n",
       "    }\n",
       "\n",
       "    .dataframe tbody tr th {\n",
       "        vertical-align: top;\n",
       "    }\n",
       "\n",
       "    .dataframe thead th {\n",
       "        text-align: right;\n",
       "    }\n",
       "</style>\n",
       "<table border=\"1\" class=\"dataframe\">\n",
       "  <thead>\n",
       "    <tr style=\"text-align: right;\">\n",
       "      <th>debt</th>\n",
       "      <th>people_without_debt_no</th>\n",
       "      <th>people_with_debt_no</th>\n",
       "      <th>people_total</th>\n",
       "      <th>people_without_debt_per</th>\n",
       "      <th>people_with_debt_per</th>\n",
       "    </tr>\n",
       "    <tr>\n",
       "      <th>family_status</th>\n",
       "      <th></th>\n",
       "      <th></th>\n",
       "      <th></th>\n",
       "      <th></th>\n",
       "      <th></th>\n",
       "    </tr>\n",
       "  </thead>\n",
       "  <tbody>\n",
       "    <tr>\n",
       "      <td>вдовец / вдова</td>\n",
       "      <td>896</td>\n",
       "      <td>63</td>\n",
       "      <td>959</td>\n",
       "      <td>0.934307</td>\n",
       "      <td>0.065693</td>\n",
       "    </tr>\n",
       "    <tr>\n",
       "      <td>в разводе</td>\n",
       "      <td>1110</td>\n",
       "      <td>85</td>\n",
       "      <td>1195</td>\n",
       "      <td>0.928870</td>\n",
       "      <td>0.071130</td>\n",
       "    </tr>\n",
       "    <tr>\n",
       "      <td>женат / замужем</td>\n",
       "      <td>11413</td>\n",
       "      <td>931</td>\n",
       "      <td>12344</td>\n",
       "      <td>0.924579</td>\n",
       "      <td>0.075421</td>\n",
       "    </tr>\n",
       "    <tr>\n",
       "      <td>гражданский брак</td>\n",
       "      <td>3774</td>\n",
       "      <td>388</td>\n",
       "      <td>4162</td>\n",
       "      <td>0.906776</td>\n",
       "      <td>0.093224</td>\n",
       "    </tr>\n",
       "    <tr>\n",
       "      <td>не женат / не замужем</td>\n",
       "      <td>2536</td>\n",
       "      <td>274</td>\n",
       "      <td>2810</td>\n",
       "      <td>0.902491</td>\n",
       "      <td>0.097509</td>\n",
       "    </tr>\n",
       "  </tbody>\n",
       "</table>\n",
       "</div>"
      ],
      "text/plain": [
       "debt                   people_without_debt_no  people_with_debt_no  \\\n",
       "family_status                                                        \n",
       "вдовец / вдова                            896                   63   \n",
       "в разводе                                1110                   85   \n",
       "женат / замужем                         11413                  931   \n",
       "гражданский брак                         3774                  388   \n",
       "не женат / не замужем                    2536                  274   \n",
       "\n",
       "debt                   people_total  people_without_debt_per  \\\n",
       "family_status                                                  \n",
       "вдовец / вдова                  959                 0.934307   \n",
       "в разводе                      1195                 0.928870   \n",
       "женат / замужем               12344                 0.924579   \n",
       "гражданский брак               4162                 0.906776   \n",
       "не женат / не замужем          2810                 0.902491   \n",
       "\n",
       "debt                   people_with_debt_per  \n",
       "family_status                                \n",
       "вдовец / вдова                     0.065693  \n",
       "в разводе                          0.071130  \n",
       "женат / замужем                    0.075421  \n",
       "гражданский брак                   0.093224  \n",
       "не женат / не замужем              0.097509  "
      ]
     },
     "metadata": {},
     "output_type": "display_data"
    }
   ],
   "source": [
    "display( fun_counter( df, 'family_status' ) )"
   ]
  },
  {
   "attachments": {},
   "cell_type": "markdown",
   "metadata": {},
   "source": [
    "В этом случае у нас более равномерная выборка (по сравнению с предыдущей гипотезой), поэтому посмотрим на все категории.\n",
    "\n",
    "**Вывод:** В этом случае у нас чуть более выраженная зависимость. Гражданский брак и отсутствие жены / мужа явно снижает вероятность возврата кредита (хотя она все еще около 90%) по сравнению с остальными категориями (вероятность возврата около 93%). Интересно, что самая надежная категория - это вдовец / вдова, хотя, вероятно, это следствие относительно маленькой выборки."
   ]
  },
  {
   "attachments": {},
   "cell_type": "markdown",
   "metadata": {},
   "source": [
    "### 3 - Зависимость между уровнем дохода и возвратом кредита в срок\n",
    "\n",
    "Проверим, что получилось для третьей гипотезы."
   ]
  },
  {
   "cell_type": "code",
   "execution_count": null,
   "metadata": {},
   "outputs": [
    {
     "data": {
      "text/html": [
       "<div>\n",
       "<style scoped>\n",
       "    .dataframe tbody tr th:only-of-type {\n",
       "        vertical-align: middle;\n",
       "    }\n",
       "\n",
       "    .dataframe tbody tr th {\n",
       "        vertical-align: top;\n",
       "    }\n",
       "\n",
       "    .dataframe thead th {\n",
       "        text-align: right;\n",
       "    }\n",
       "</style>\n",
       "<table border=\"1\" class=\"dataframe\">\n",
       "  <thead>\n",
       "    <tr style=\"text-align: right;\">\n",
       "      <th>debt</th>\n",
       "      <th>people_without_debt_no</th>\n",
       "      <th>people_with_debt_no</th>\n",
       "      <th>people_total</th>\n",
       "      <th>people_without_debt_per</th>\n",
       "      <th>people_with_debt_per</th>\n",
       "    </tr>\n",
       "    <tr>\n",
       "      <th>total_income_category</th>\n",
       "      <th></th>\n",
       "      <th></th>\n",
       "      <th></th>\n",
       "      <th></th>\n",
       "      <th></th>\n",
       "    </tr>\n",
       "  </thead>\n",
       "  <tbody>\n",
       "    <tr>\n",
       "      <td>D</td>\n",
       "      <td>329</td>\n",
       "      <td>21</td>\n",
       "      <td>350</td>\n",
       "      <td>0.940000</td>\n",
       "      <td>0.060000</td>\n",
       "    </tr>\n",
       "    <tr>\n",
       "      <td>B</td>\n",
       "      <td>5158</td>\n",
       "      <td>386</td>\n",
       "      <td>5544</td>\n",
       "      <td>0.930375</td>\n",
       "      <td>0.069625</td>\n",
       "    </tr>\n",
       "    <tr>\n",
       "      <td>A</td>\n",
       "      <td>23</td>\n",
       "      <td>2</td>\n",
       "      <td>25</td>\n",
       "      <td>0.920000</td>\n",
       "      <td>0.080000</td>\n",
       "    </tr>\n",
       "    <tr>\n",
       "      <td>C</td>\n",
       "      <td>14199</td>\n",
       "      <td>1330</td>\n",
       "      <td>15529</td>\n",
       "      <td>0.914354</td>\n",
       "      <td>0.085646</td>\n",
       "    </tr>\n",
       "    <tr>\n",
       "      <td>E</td>\n",
       "      <td>20</td>\n",
       "      <td>2</td>\n",
       "      <td>22</td>\n",
       "      <td>0.909091</td>\n",
       "      <td>0.090909</td>\n",
       "    </tr>\n",
       "  </tbody>\n",
       "</table>\n",
       "</div>"
      ],
      "text/plain": [
       "debt                   people_without_debt_no  people_with_debt_no  \\\n",
       "total_income_category                                                \n",
       "D                                         329                   21   \n",
       "B                                        5158                  386   \n",
       "A                                          23                    2   \n",
       "C                                       14199                 1330   \n",
       "E                                          20                    2   \n",
       "\n",
       "debt                   people_total  people_without_debt_per  \\\n",
       "total_income_category                                          \n",
       "D                               350                 0.940000   \n",
       "B                              5544                 0.930375   \n",
       "A                                25                 0.920000   \n",
       "C                             15529                 0.914354   \n",
       "E                                22                 0.909091   \n",
       "\n",
       "debt                   people_with_debt_per  \n",
       "total_income_category                        \n",
       "D                                  0.060000  \n",
       "B                                  0.069625  \n",
       "A                                  0.080000  \n",
       "C                                  0.085646  \n",
       "E                                  0.090909  "
      ]
     },
     "metadata": {},
     "output_type": "display_data"
    }
   ],
   "source": [
    "display( fun_counter( df, 'total_income_category' ) )"
   ]
  },
  {
   "attachments": {},
   "cell_type": "markdown",
   "metadata": {},
   "source": [
    "Опять некоторые категгории получились очень маленькими - всего 25 людей в категории по доходу 'A' (что ожидаемо).\n",
    "\n",
    "**Вывод:** В этом случае у нас тоже есть зависимость, хотя и не совсем, как я ожидал. Видно, что люди с наименьшим доходом имеют самую низкую вероятность возврата кредита (все еще около 90%). В то время как более высокий доход может значительно это вероятность повысить (до 93% в случае 'B'). Интересно, что первую строчку у нас все равно заняла категория 'D'."
   ]
  },
  {
   "attachments": {},
   "cell_type": "markdown",
   "metadata": {},
   "source": [
    "### 4 - Зависимость между целями кредита и возвратом кредита в срок\n",
    "\n",
    "Проверим, что получилось для последней гипотезы."
   ]
  },
  {
   "cell_type": "code",
   "execution_count": null,
   "metadata": {},
   "outputs": [
    {
     "data": {
      "text/html": [
       "<div>\n",
       "<style scoped>\n",
       "    .dataframe tbody tr th:only-of-type {\n",
       "        vertical-align: middle;\n",
       "    }\n",
       "\n",
       "    .dataframe tbody tr th {\n",
       "        vertical-align: top;\n",
       "    }\n",
       "\n",
       "    .dataframe thead th {\n",
       "        text-align: right;\n",
       "    }\n",
       "</style>\n",
       "<table border=\"1\" class=\"dataframe\">\n",
       "  <thead>\n",
       "    <tr style=\"text-align: right;\">\n",
       "      <th>debt</th>\n",
       "      <th>people_without_debt_no</th>\n",
       "      <th>people_with_debt_no</th>\n",
       "      <th>people_total</th>\n",
       "      <th>people_without_debt_per</th>\n",
       "      <th>people_with_debt_per</th>\n",
       "    </tr>\n",
       "    <tr>\n",
       "      <th>purpose_category</th>\n",
       "      <th></th>\n",
       "      <th></th>\n",
       "      <th></th>\n",
       "      <th></th>\n",
       "      <th></th>\n",
       "    </tr>\n",
       "  </thead>\n",
       "  <tbody>\n",
       "    <tr>\n",
       "      <td>операции с недвижимостью</td>\n",
       "      <td>10031</td>\n",
       "      <td>782</td>\n",
       "      <td>10813</td>\n",
       "      <td>0.927680</td>\n",
       "      <td>0.072320</td>\n",
       "    </tr>\n",
       "    <tr>\n",
       "      <td>проведение свадьбы</td>\n",
       "      <td>2149</td>\n",
       "      <td>186</td>\n",
       "      <td>2335</td>\n",
       "      <td>0.920343</td>\n",
       "      <td>0.079657</td>\n",
       "    </tr>\n",
       "    <tr>\n",
       "      <td>получение образования</td>\n",
       "      <td>3644</td>\n",
       "      <td>370</td>\n",
       "      <td>4014</td>\n",
       "      <td>0.907823</td>\n",
       "      <td>0.092177</td>\n",
       "    </tr>\n",
       "    <tr>\n",
       "      <td>операции с автомобилем</td>\n",
       "      <td>3905</td>\n",
       "      <td>403</td>\n",
       "      <td>4308</td>\n",
       "      <td>0.906453</td>\n",
       "      <td>0.093547</td>\n",
       "    </tr>\n",
       "  </tbody>\n",
       "</table>\n",
       "</div>"
      ],
      "text/plain": [
       "debt                      people_without_debt_no  people_with_debt_no  \\\n",
       "purpose_category                                                        \n",
       "операции с недвижимостью                   10031                  782   \n",
       "проведение свадьбы                          2149                  186   \n",
       "получение образования                       3644                  370   \n",
       "операции с автомобилем                      3905                  403   \n",
       "\n",
       "debt                      people_total  people_without_debt_per  \\\n",
       "purpose_category                                                  \n",
       "операции с недвижимостью         10813                 0.927680   \n",
       "проведение свадьбы                2335                 0.920343   \n",
       "получение образования             4014                 0.907823   \n",
       "операции с автомобилем            4308                 0.906453   \n",
       "\n",
       "debt                      people_with_debt_per  \n",
       "purpose_category                                \n",
       "операции с недвижимостью              0.072320  \n",
       "проведение свадьбы                    0.079657  \n",
       "получение образования                 0.092177  \n",
       "операции с автомобилем                0.093547  "
      ]
     },
     "metadata": {},
     "output_type": "display_data"
    }
   ],
   "source": [
    "display( fun_counter( df, 'purpose_category' ) )"
   ]
  },
  {
   "attachments": {},
   "cell_type": "markdown",
   "metadata": {},
   "source": [
    "**Вывод:** А вот это неожиданный результат. Похоже, что кредиты на операции с недвижимостью и на проведение свадьбы возвращают реже, чем на получение образования и операции с автомобилем. Хотя разица оказалось не очень большой (всего ~2%), она заметна. Еще интересно, как каждые из двух категорий сгруппировались друг с другом."
   ]
  },
  {
   "attachments": {},
   "cell_type": "markdown",
   "metadata": {},
   "source": [
    "## Выводы\n",
    "\n",
    "В этом проекте я прошел весь цикл анализа данных: от загрузки до проверки гипотез. В первой части, я вычистил данные: привел к стандартному виду, разобрался с пустыми значениями, убрал дубликаты, сделал разные категории. Это была самая трудозатратная часть. Во второй части, я провел относительно простой анализ и сравнил вероятность возвращения кредита в срок для разных срезов в данных.\n",
    "\n",
    "В итоге, мы получили, что количество детей слабо влияет на вероятность возврата кредита (хотя есть небольшая зависимость - чем больше детей, тем вероятность возврата ниже). Вероятно, это связано с дополнительными расходами на содержание ребенка.\n",
    "\n",
    "Семейный статус оказывает заметное влияние: так люди, состоящие в зарегистрированных отношениях более чаще возвращают кредиты. Вероятно, это связно с некоторым \"взрослением\" которое сопровождает решение вступить в брак.\n",
    "\n",
    "Уровень дохода также может оказать влияние на вероятность возврата кредита: как можно ожидать, чем меньше доход - тем (примерно) вероятность меньше. Исключение составляет категория 'D', которая оказалась самой надежной. Возможно, здесь бы следовало пересмотреть группировку по доходу: как-то неравномерно у нас распределились заявители.\n",
    "\n",
    "Наконец, цели кредита тоже влияют на вероятность возврата. Удивительно, что кредит на свадьбу возвращают чаще, чем кредит на образование. Возможно, это также связано с тем, что в свадьбе (или приобретении жилья) могут участвовать два человека, тогда как кредиты на образование (или покупку недвижимости) берутся в одиночестве..."
   ]
  }
 ],
 "metadata": {
  "ExecuteTimeLog": [
   {
    "duration": 124,
    "start_time": "2022-02-15T16:59:00.743Z"
   },
   {
    "duration": 1929,
    "start_time": "2022-02-16T05:44:35.085Z"
   },
   {
    "duration": 3324,
    "start_time": "2022-02-16T08:44:40.717Z"
   },
   {
    "duration": -897,
    "start_time": "2022-02-16T08:44:44.942Z"
   },
   {
    "duration": -906,
    "start_time": "2022-02-16T08:44:44.952Z"
   },
   {
    "duration": -909,
    "start_time": "2022-02-16T08:44:44.958Z"
   },
   {
    "duration": -910,
    "start_time": "2022-02-16T08:44:44.961Z"
   },
   {
    "duration": -910,
    "start_time": "2022-02-16T08:44:44.963Z"
   },
   {
    "duration": -911,
    "start_time": "2022-02-16T08:44:44.966Z"
   },
   {
    "duration": -916,
    "start_time": "2022-02-16T08:44:44.973Z"
   },
   {
    "duration": -916,
    "start_time": "2022-02-16T08:44:44.975Z"
   },
   {
    "duration": -918,
    "start_time": "2022-02-16T08:44:44.979Z"
   },
   {
    "duration": -920,
    "start_time": "2022-02-16T08:44:44.982Z"
   },
   {
    "duration": -926,
    "start_time": "2022-02-16T08:44:44.990Z"
   },
   {
    "duration": -926,
    "start_time": "2022-02-16T08:44:44.992Z"
   },
   {
    "duration": -928,
    "start_time": "2022-02-16T08:44:44.995Z"
   },
   {
    "duration": -929,
    "start_time": "2022-02-16T08:44:44.997Z"
   },
   {
    "duration": -932,
    "start_time": "2022-02-16T08:44:45.002Z"
   },
   {
    "duration": -937,
    "start_time": "2022-02-16T08:44:45.009Z"
   },
   {
    "duration": -938,
    "start_time": "2022-02-16T08:44:45.011Z"
   },
   {
    "duration": 330,
    "start_time": "2022-02-16T08:44:59.572Z"
   },
   {
    "duration": 3747,
    "start_time": "2022-02-16T08:45:29.606Z"
   },
   {
    "duration": -980,
    "start_time": "2022-02-16T08:45:34.337Z"
   },
   {
    "duration": -981,
    "start_time": "2022-02-16T08:45:34.340Z"
   },
   {
    "duration": -983,
    "start_time": "2022-02-16T08:45:34.343Z"
   },
   {
    "duration": -984,
    "start_time": "2022-02-16T08:45:34.346Z"
   },
   {
    "duration": -983,
    "start_time": "2022-02-16T08:45:34.351Z"
   },
   {
    "duration": -984,
    "start_time": "2022-02-16T08:45:34.354Z"
   },
   {
    "duration": -984,
    "start_time": "2022-02-16T08:45:34.356Z"
   },
   {
    "duration": -984,
    "start_time": "2022-02-16T08:45:34.358Z"
   },
   {
    "duration": -984,
    "start_time": "2022-02-16T08:45:34.360Z"
   },
   {
    "duration": -985,
    "start_time": "2022-02-16T08:45:34.362Z"
   },
   {
    "duration": -985,
    "start_time": "2022-02-16T08:45:34.364Z"
   },
   {
    "duration": -986,
    "start_time": "2022-02-16T08:45:34.367Z"
   },
   {
    "duration": -987,
    "start_time": "2022-02-16T08:45:34.370Z"
   },
   {
    "duration": -988,
    "start_time": "2022-02-16T08:45:34.372Z"
   },
   {
    "duration": -988,
    "start_time": "2022-02-16T08:45:34.374Z"
   },
   {
    "duration": -987,
    "start_time": "2022-02-16T08:45:34.375Z"
   },
   {
    "duration": -987,
    "start_time": "2022-02-16T08:45:34.377Z"
   },
   {
    "duration": 92,
    "start_time": "2022-02-16T08:49:31.111Z"
   },
   {
    "duration": 70,
    "start_time": "2022-02-16T08:49:35.363Z"
   },
   {
    "duration": 21,
    "start_time": "2022-02-16T08:49:37.742Z"
   },
   {
    "duration": 78,
    "start_time": "2022-02-16T08:49:44.271Z"
   },
   {
    "duration": 21,
    "start_time": "2022-02-16T08:49:44.353Z"
   },
   {
    "duration": 34,
    "start_time": "2022-02-16T08:49:44.378Z"
   },
   {
    "duration": 66,
    "start_time": "2022-02-16T08:49:44.415Z"
   },
   {
    "duration": 73,
    "start_time": "2022-02-16T08:49:44.484Z"
   },
   {
    "duration": 99,
    "start_time": "2022-02-16T08:49:44.560Z"
   },
   {
    "duration": 10,
    "start_time": "2022-02-16T08:49:44.661Z"
   },
   {
    "duration": 25,
    "start_time": "2022-02-16T08:49:44.674Z"
   },
   {
    "duration": 48,
    "start_time": "2022-02-16T08:49:44.702Z"
   },
   {
    "duration": 9,
    "start_time": "2022-02-16T08:49:44.753Z"
   },
   {
    "duration": 89,
    "start_time": "2022-02-16T08:49:44.765Z"
   },
   {
    "duration": 69,
    "start_time": "2022-02-16T08:49:44.857Z"
   },
   {
    "duration": 35,
    "start_time": "2022-02-16T08:49:44.929Z"
   },
   {
    "duration": 21,
    "start_time": "2022-02-16T08:49:44.967Z"
   },
   {
    "duration": 16,
    "start_time": "2022-02-16T08:49:44.990Z"
   },
   {
    "duration": 78,
    "start_time": "2022-02-16T08:49:45.009Z"
   },
   {
    "duration": 38,
    "start_time": "2022-02-16T08:49:45.090Z"
   },
   {
    "duration": 63,
    "start_time": "2022-02-16T08:49:45.132Z"
   },
   {
    "duration": 210,
    "start_time": "2022-02-16T19:42:30.667Z"
   },
   {
    "duration": 642,
    "start_time": "2022-02-16T19:42:39.274Z"
   },
   {
    "duration": 11,
    "start_time": "2022-02-16T19:42:39.918Z"
   },
   {
    "duration": 26,
    "start_time": "2022-02-16T19:42:39.931Z"
   },
   {
    "duration": 54,
    "start_time": "2022-02-16T19:42:39.960Z"
   },
   {
    "duration": 37,
    "start_time": "2022-02-16T19:42:40.017Z"
   },
   {
    "duration": 38,
    "start_time": "2022-02-16T19:42:40.056Z"
   },
   {
    "duration": 6,
    "start_time": "2022-02-16T19:42:40.096Z"
   },
   {
    "duration": 20,
    "start_time": "2022-02-16T19:42:40.104Z"
   },
   {
    "duration": 47,
    "start_time": "2022-02-16T19:42:40.126Z"
   },
   {
    "duration": 13,
    "start_time": "2022-02-16T19:42:40.175Z"
   },
   {
    "duration": 53,
    "start_time": "2022-02-16T19:42:40.190Z"
   },
   {
    "duration": 42,
    "start_time": "2022-02-16T19:42:40.245Z"
   },
   {
    "duration": 16,
    "start_time": "2022-02-16T19:42:40.289Z"
   },
   {
    "duration": 13,
    "start_time": "2022-02-16T19:42:40.306Z"
   },
   {
    "duration": 17,
    "start_time": "2022-02-16T19:42:40.320Z"
   },
   {
    "duration": 21,
    "start_time": "2022-02-16T19:42:40.339Z"
   },
   {
    "duration": 35,
    "start_time": "2022-02-16T19:42:40.362Z"
   },
   {
    "duration": 27,
    "start_time": "2022-02-16T19:42:40.398Z"
   },
   {
    "duration": 56,
    "start_time": "2022-02-16T19:42:40.427Z"
   },
   {
    "duration": 5,
    "start_time": "2022-02-16T19:42:58.073Z"
   },
   {
    "duration": 56,
    "start_time": "2022-02-16T19:43:15.967Z"
   },
   {
    "duration": 225,
    "start_time": "2022-02-16T19:44:38.779Z"
   },
   {
    "duration": 12,
    "start_time": "2022-02-16T19:44:51.322Z"
   },
   {
    "duration": 19,
    "start_time": "2022-02-16T19:45:03.883Z"
   },
   {
    "duration": 10,
    "start_time": "2022-02-16T19:45:20.332Z"
   },
   {
    "duration": 4,
    "start_time": "2022-02-16T19:48:47.452Z"
   },
   {
    "duration": 4,
    "start_time": "2022-02-16T19:48:54.730Z"
   },
   {
    "duration": 3,
    "start_time": "2022-02-16T19:49:07.227Z"
   },
   {
    "duration": 21,
    "start_time": "2022-02-16T19:52:10.833Z"
   },
   {
    "duration": 8,
    "start_time": "2022-02-16T19:56:42.347Z"
   },
   {
    "duration": 65,
    "start_time": "2022-02-16T19:58:40.627Z"
   },
   {
    "duration": 65,
    "start_time": "2022-02-16T19:58:44.635Z"
   },
   {
    "duration": 3,
    "start_time": "2022-02-16T19:58:46.788Z"
   },
   {
    "duration": 10,
    "start_time": "2022-02-16T19:59:24.852Z"
   },
   {
    "duration": -101,
    "start_time": "2022-02-16T20:00:26.762Z"
   },
   {
    "duration": 4140,
    "start_time": "2022-02-16T20:00:34.522Z"
   },
   {
    "duration": 174,
    "start_time": "2022-02-16T20:00:57.587Z"
   },
   {
    "duration": 22,
    "start_time": "2022-02-16T20:01:17.626Z"
   },
   {
    "duration": 58,
    "start_time": "2022-02-16T20:03:27.035Z"
   },
   {
    "duration": 24,
    "start_time": "2022-02-16T20:03:30.522Z"
   },
   {
    "duration": 165,
    "start_time": "2022-02-16T20:03:56.219Z"
   },
   {
    "duration": 221,
    "start_time": "2022-02-16T20:04:37.964Z"
   },
   {
    "duration": 13,
    "start_time": "2022-02-16T20:05:03.276Z"
   },
   {
    "duration": 10,
    "start_time": "2022-02-16T20:05:20.954Z"
   },
   {
    "duration": 12,
    "start_time": "2022-02-16T20:05:30.699Z"
   },
   {
    "duration": 18,
    "start_time": "2022-02-16T20:05:42.027Z"
   },
   {
    "duration": 37,
    "start_time": "2022-02-16T20:08:16.499Z"
   }
  ],
  "kernelspec": {
   "display_name": "Python 3",
   "language": "python",
   "name": "python3"
  },
  "language_info": {
   "codemirror_mode": {
    "name": "ipython",
    "version": 3
   },
   "file_extension": ".py",
   "mimetype": "text/x-python",
   "name": "python",
   "nbconvert_exporter": "python",
   "pygments_lexer": "ipython3",
   "version": "3.9.7"
  },
  "toc": {
   "base_numbering": 1,
   "nav_menu": {},
   "number_sections": true,
   "sideBar": true,
   "skip_h1_title": true,
   "title_cell": "Table of Contents",
   "title_sidebar": "Contents",
   "toc_cell": false,
   "toc_position": {},
   "toc_section_display": true,
   "toc_window_display": false
  }
 },
 "nbformat": 4,
 "nbformat_minor": 1
}
