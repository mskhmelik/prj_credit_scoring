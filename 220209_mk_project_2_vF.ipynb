{
 "cells": [
  {
   "cell_type": "markdown",
   "metadata": {},
   "source": [
    "# Проект - 2: Исследование надёжности заёмщиков"
   ]
  },
  {
   "cell_type": "markdown",
   "metadata": {
    "collapsed": false,
    "pycharm": {
     "name": "#%% md\n"
    }
   },
   "source": [
    "## Введение\n",
    "\n",
    "Заказчик — кредитный отдел банка. Нужно разобраться, влияет ли семейное положение и количество детей клиента на факт погашения кредита в срок. Входные данные от банка — статистика о платёжеспособности клиентов.\n",
    "\n",
    "Результаты исследования будут учтены при построении модели кредитного скоринга — специальной системы, которая оценивает способность потенциального заёмщика вернуть кредит банку.\n",
    "\n",
    "**Цель исследования** - проверить 3 гипотезы. Я убрал последнюю гипотезу, т.к. она относится к лемматизации. Эта тема была вырезана из курса.\n",
    "1. Есть ли зависимость между наличием детей и возвратом кредита в срок?\n",
    "2. Есть ли зависимость между семейным положением и возвратом кредита в срок?\n",
    "3. Есть ли зависимость между уровнем дохода и возвратом кредита в срок?\n",
    "\n",
    "**Описание данных**\n",
    "\n",
    "В таблице 12 столбцов:\n",
    "1. `children` — количество детей в семье\n",
    "2. `days_employed` — общий трудовой стаж в днях\n",
    "3. `dob_years` — возраст клиента в годах\n",
    "4. `education` — уровень образования клиента\n",
    "5. `education_id` — идентификатор уровня образования\n",
    "6. `family_status` — семейное положение\n",
    "7. `family_status_id` — идентификатор семейного положения\n",
    "8. `gender` — пол клиента\n",
    "9. `income_type` — тип занятости\n",
    "10. `debt` — имел ли задолженность по возврату кредитов (да / нет)\n",
    "11. `total_income` — ежемесячный доход\n",
    "12. `purpose` — цель получения кредита\n",
    "\n",
    "Каждая строчка в дата сете - запись о клиенте. Здесь есть как категориальные данные (`education`, `income_type`), так и количественные переменные (`total_income`, `children`). Похоже, что данных достаточно для проверки поставленных гипотез.\n",
    "\n",
    "Дальше в анализе мы проверим есть ли какие-то артефакты в данных, которые требуют внимания. Но хотя бы все названия столбцов уже записаны в `snake_case` формате."
   ]
  },
  {
   "cell_type": "markdown",
   "metadata": {
    "collapsed": false
   },
   "source": [
    "## Предобработка данных\n",
    "\n",
    "Для начала проверим какие данные нам достались. Нас интересуют:\n",
    "\n",
    "1. Артефакты в данных\n",
    "2. Отсутствующие (None) значения в стобцах\n",
    "3. Повторяющиеся строки, нестандратные названия категорий и типы данных в колонках\n",
    "4. Словари (lookup tables)\n",
    "5. Классификация `total_income`\n",
    "\n",
    "Пойдем по порядку."
   ]
  },
  {
   "cell_type": "code",
   "execution_count": 1,
   "metadata": {
    "collapsed": false,
    "pycharm": {
     "name": "#%%\n"
    }
   },
   "outputs": [],
   "source": [
    "# Подключаем библиотеку и открываем дата сет\n",
    "import pandas as pd\n",
    "import numpy as np\n",
    "from IPython.display import display\n",
    "\n",
    "# Я привык сохранять исходный датасет, чтобы можно было проследить какие преобразования были совершены.\n",
    "raw_df = pd.read_csv( 'raw_credit_scoring.csv' )\n",
    "df = raw_df.copy()"
   ]
  },
  {
   "cell_type": "code",
   "execution_count": 2,
   "metadata": {
    "collapsed": false,
    "pycharm": {
     "name": "#%%\n"
    }
   },
   "outputs": [
    {
     "name": "stdout",
     "output_type": "stream",
     "text": [
      "<class 'pandas.core.frame.DataFrame'>\n",
      "RangeIndex: 21525 entries, 0 to 21524\n",
      "Data columns (total 12 columns):\n",
      " #   Column            Non-Null Count  Dtype  \n",
      "---  ------            --------------  -----  \n",
      " 0   children          21525 non-null  int64  \n",
      " 1   days_employed     19351 non-null  float64\n",
      " 2   dob_years         21525 non-null  int64  \n",
      " 3   education         21525 non-null  object \n",
      " 4   education_id      21525 non-null  int64  \n",
      " 5   family_status     21525 non-null  object \n",
      " 6   family_status_id  21525 non-null  int64  \n",
      " 7   gender            21525 non-null  object \n",
      " 8   income_type       21525 non-null  object \n",
      " 9   debt              21525 non-null  int64  \n",
      " 10  total_income      19351 non-null  float64\n",
      " 11  purpose           21525 non-null  object \n",
      "dtypes: float64(2), int64(5), object(5)\n",
      "memory usage: 2.0+ MB\n"
     ]
    }
   ],
   "source": [
    "# Выведем на экран информацию о датасете\n",
    "df.info()"
   ]
  },
  {
   "cell_type": "markdown",
   "metadata": {},
   "source": [
    "Первое, что бросается в глаза - категориальные колонки имеют формат `object` - текстовые поля. Большинство количественных колонок имеют формат `float`, кроме `children` и `dob_years` - эти колонки имеют формат `int` (что логично, потому что дробных детей не бывает).\n",
    "\n",
    "Второе - колонки имеют разное количество строк (`days_employed` и `total_income` примерно на 2000 строк короче, чем остальные). Это говорит о том, что для некоторых записей (строк) эти значения отсутствуют.\n",
    "\n",
    "Третье - похоже, что колонки `education_id` и `family_status_id` (в формате `int`) содержат идентификаторы (ключи) для различных статусов в колонках `education` и `family_status`."
   ]
  },
  {
   "cell_type": "code",
   "execution_count": 3,
   "metadata": {
    "collapsed": false,
    "pycharm": {
     "name": "#%%\n"
    }
   },
   "outputs": [
    {
     "data": {
      "text/html": [
       "<div>\n",
       "<style scoped>\n",
       "    .dataframe tbody tr th:only-of-type {\n",
       "        vertical-align: middle;\n",
       "    }\n",
       "\n",
       "    .dataframe tbody tr th {\n",
       "        vertical-align: top;\n",
       "    }\n",
       "\n",
       "    .dataframe thead th {\n",
       "        text-align: right;\n",
       "    }\n",
       "</style>\n",
       "<table border=\"1\" class=\"dataframe\">\n",
       "  <thead>\n",
       "    <tr style=\"text-align: right;\">\n",
       "      <th></th>\n",
       "      <th>children</th>\n",
       "      <th>days_employed</th>\n",
       "      <th>dob_years</th>\n",
       "      <th>education</th>\n",
       "      <th>education_id</th>\n",
       "      <th>family_status</th>\n",
       "      <th>family_status_id</th>\n",
       "      <th>gender</th>\n",
       "      <th>income_type</th>\n",
       "      <th>debt</th>\n",
       "      <th>total_income</th>\n",
       "      <th>purpose</th>\n",
       "    </tr>\n",
       "  </thead>\n",
       "  <tbody>\n",
       "    <tr>\n",
       "      <th>0</th>\n",
       "      <td>1</td>\n",
       "      <td>-8437.673028</td>\n",
       "      <td>42</td>\n",
       "      <td>высшее</td>\n",
       "      <td>0</td>\n",
       "      <td>женат / замужем</td>\n",
       "      <td>0</td>\n",
       "      <td>F</td>\n",
       "      <td>сотрудник</td>\n",
       "      <td>0</td>\n",
       "      <td>253875.639453</td>\n",
       "      <td>покупка жилья</td>\n",
       "    </tr>\n",
       "    <tr>\n",
       "      <th>1</th>\n",
       "      <td>1</td>\n",
       "      <td>-4024.803754</td>\n",
       "      <td>36</td>\n",
       "      <td>среднее</td>\n",
       "      <td>1</td>\n",
       "      <td>женат / замужем</td>\n",
       "      <td>0</td>\n",
       "      <td>F</td>\n",
       "      <td>сотрудник</td>\n",
       "      <td>0</td>\n",
       "      <td>112080.014102</td>\n",
       "      <td>приобретение автомобиля</td>\n",
       "    </tr>\n",
       "    <tr>\n",
       "      <th>2</th>\n",
       "      <td>0</td>\n",
       "      <td>-5623.422610</td>\n",
       "      <td>33</td>\n",
       "      <td>Среднее</td>\n",
       "      <td>1</td>\n",
       "      <td>женат / замужем</td>\n",
       "      <td>0</td>\n",
       "      <td>M</td>\n",
       "      <td>сотрудник</td>\n",
       "      <td>0</td>\n",
       "      <td>145885.952297</td>\n",
       "      <td>покупка жилья</td>\n",
       "    </tr>\n",
       "    <tr>\n",
       "      <th>3</th>\n",
       "      <td>3</td>\n",
       "      <td>-4124.747207</td>\n",
       "      <td>32</td>\n",
       "      <td>среднее</td>\n",
       "      <td>1</td>\n",
       "      <td>женат / замужем</td>\n",
       "      <td>0</td>\n",
       "      <td>M</td>\n",
       "      <td>сотрудник</td>\n",
       "      <td>0</td>\n",
       "      <td>267628.550329</td>\n",
       "      <td>дополнительное образование</td>\n",
       "    </tr>\n",
       "    <tr>\n",
       "      <th>4</th>\n",
       "      <td>0</td>\n",
       "      <td>340266.072047</td>\n",
       "      <td>53</td>\n",
       "      <td>среднее</td>\n",
       "      <td>1</td>\n",
       "      <td>гражданский брак</td>\n",
       "      <td>1</td>\n",
       "      <td>F</td>\n",
       "      <td>пенсионер</td>\n",
       "      <td>0</td>\n",
       "      <td>158616.077870</td>\n",
       "      <td>сыграть свадьбу</td>\n",
       "    </tr>\n",
       "    <tr>\n",
       "      <th>5</th>\n",
       "      <td>0</td>\n",
       "      <td>-926.185831</td>\n",
       "      <td>27</td>\n",
       "      <td>высшее</td>\n",
       "      <td>0</td>\n",
       "      <td>гражданский брак</td>\n",
       "      <td>1</td>\n",
       "      <td>M</td>\n",
       "      <td>компаньон</td>\n",
       "      <td>0</td>\n",
       "      <td>255763.565419</td>\n",
       "      <td>покупка жилья</td>\n",
       "    </tr>\n",
       "    <tr>\n",
       "      <th>6</th>\n",
       "      <td>0</td>\n",
       "      <td>-2879.202052</td>\n",
       "      <td>43</td>\n",
       "      <td>высшее</td>\n",
       "      <td>0</td>\n",
       "      <td>женат / замужем</td>\n",
       "      <td>0</td>\n",
       "      <td>F</td>\n",
       "      <td>компаньон</td>\n",
       "      <td>0</td>\n",
       "      <td>240525.971920</td>\n",
       "      <td>операции с жильем</td>\n",
       "    </tr>\n",
       "    <tr>\n",
       "      <th>7</th>\n",
       "      <td>0</td>\n",
       "      <td>-152.779569</td>\n",
       "      <td>50</td>\n",
       "      <td>СРЕДНЕЕ</td>\n",
       "      <td>1</td>\n",
       "      <td>женат / замужем</td>\n",
       "      <td>0</td>\n",
       "      <td>M</td>\n",
       "      <td>сотрудник</td>\n",
       "      <td>0</td>\n",
       "      <td>135823.934197</td>\n",
       "      <td>образование</td>\n",
       "    </tr>\n",
       "    <tr>\n",
       "      <th>8</th>\n",
       "      <td>2</td>\n",
       "      <td>-6929.865299</td>\n",
       "      <td>35</td>\n",
       "      <td>ВЫСШЕЕ</td>\n",
       "      <td>0</td>\n",
       "      <td>гражданский брак</td>\n",
       "      <td>1</td>\n",
       "      <td>F</td>\n",
       "      <td>сотрудник</td>\n",
       "      <td>0</td>\n",
       "      <td>95856.832424</td>\n",
       "      <td>на проведение свадьбы</td>\n",
       "    </tr>\n",
       "    <tr>\n",
       "      <th>9</th>\n",
       "      <td>0</td>\n",
       "      <td>-2188.756445</td>\n",
       "      <td>41</td>\n",
       "      <td>среднее</td>\n",
       "      <td>1</td>\n",
       "      <td>женат / замужем</td>\n",
       "      <td>0</td>\n",
       "      <td>M</td>\n",
       "      <td>сотрудник</td>\n",
       "      <td>0</td>\n",
       "      <td>144425.938277</td>\n",
       "      <td>покупка жилья для семьи</td>\n",
       "    </tr>\n",
       "  </tbody>\n",
       "</table>\n",
       "</div>"
      ],
      "text/plain": [
       "   children  days_employed  dob_years education  education_id  \\\n",
       "0         1   -8437.673028         42    высшее             0   \n",
       "1         1   -4024.803754         36   среднее             1   \n",
       "2         0   -5623.422610         33   Среднее             1   \n",
       "3         3   -4124.747207         32   среднее             1   \n",
       "4         0  340266.072047         53   среднее             1   \n",
       "5         0    -926.185831         27    высшее             0   \n",
       "6         0   -2879.202052         43    высшее             0   \n",
       "7         0    -152.779569         50   СРЕДНЕЕ             1   \n",
       "8         2   -6929.865299         35    ВЫСШЕЕ             0   \n",
       "9         0   -2188.756445         41   среднее             1   \n",
       "\n",
       "      family_status  family_status_id gender income_type  debt   total_income  \\\n",
       "0   женат / замужем                 0      F   сотрудник     0  253875.639453   \n",
       "1   женат / замужем                 0      F   сотрудник     0  112080.014102   \n",
       "2   женат / замужем                 0      M   сотрудник     0  145885.952297   \n",
       "3   женат / замужем                 0      M   сотрудник     0  267628.550329   \n",
       "4  гражданский брак                 1      F   пенсионер     0  158616.077870   \n",
       "5  гражданский брак                 1      M   компаньон     0  255763.565419   \n",
       "6   женат / замужем                 0      F   компаньон     0  240525.971920   \n",
       "7   женат / замужем                 0      M   сотрудник     0  135823.934197   \n",
       "8  гражданский брак                 1      F   сотрудник     0   95856.832424   \n",
       "9   женат / замужем                 0      M   сотрудник     0  144425.938277   \n",
       "\n",
       "                      purpose  \n",
       "0               покупка жилья  \n",
       "1     приобретение автомобиля  \n",
       "2               покупка жилья  \n",
       "3  дополнительное образование  \n",
       "4             сыграть свадьбу  \n",
       "5               покупка жилья  \n",
       "6           операции с жильем  \n",
       "7                 образование  \n",
       "8       на проведение свадьбы  \n",
       "9     покупка жилья для семьи  "
      ]
     },
     "metadata": {},
     "output_type": "display_data"
    }
   ],
   "source": [
    "# Выведем на экран первые 10 строчек\n",
    "display( df.head( 10 ) )"
   ]
  },
  {
   "cell_type": "markdown",
   "metadata": {
    "collapsed": false
   },
   "source": [
    "Уже по первым 10 строчкам понятно, что данные надо будет обработать перед анализом. К примеру, в колонке `education` данные не стандартизованы: значение может быть \"СРЕДНЕЕ\", а может быть \"Среднее\". В колонке `days_employed` у нас также встречаются странные значения: либо отрицательные, либо больше 300К."
   ]
  },
  {
   "cell_type": "markdown",
   "metadata": {},
   "source": [
    "### 1 - Артефакты в данных\n",
    "\n",
    "Прежде чем мы начнем какие-либо операции с данными (например, замену пустых значений средними), проверим и исправим возможные артефакты."
   ]
  },
  {
   "cell_type": "code",
   "execution_count": 4,
   "metadata": {
    "collapsed": false,
    "pycharm": {
     "name": "#%%\n"
    }
   },
   "outputs": [
    {
     "data": {
      "text/html": [
       "<div>\n",
       "<style scoped>\n",
       "    .dataframe tbody tr th:only-of-type {\n",
       "        vertical-align: middle;\n",
       "    }\n",
       "\n",
       "    .dataframe tbody tr th {\n",
       "        vertical-align: top;\n",
       "    }\n",
       "\n",
       "    .dataframe thead th {\n",
       "        text-align: right;\n",
       "    }\n",
       "</style>\n",
       "<table border=\"1\" class=\"dataframe\">\n",
       "  <thead>\n",
       "    <tr style=\"text-align: right;\">\n",
       "      <th></th>\n",
       "      <th>children</th>\n",
       "      <th>days_employed</th>\n",
       "      <th>dob_years</th>\n",
       "      <th>total_income</th>\n",
       "    </tr>\n",
       "  </thead>\n",
       "  <tbody>\n",
       "    <tr>\n",
       "      <th>count</th>\n",
       "      <td>21525.0</td>\n",
       "      <td>19351.0</td>\n",
       "      <td>21525.0</td>\n",
       "      <td>19351.0</td>\n",
       "    </tr>\n",
       "    <tr>\n",
       "      <th>mean</th>\n",
       "      <td>0.5</td>\n",
       "      <td>63046.5</td>\n",
       "      <td>43.3</td>\n",
       "      <td>167422.3</td>\n",
       "    </tr>\n",
       "    <tr>\n",
       "      <th>std</th>\n",
       "      <td>1.4</td>\n",
       "      <td>140827.3</td>\n",
       "      <td>12.6</td>\n",
       "      <td>102971.6</td>\n",
       "    </tr>\n",
       "    <tr>\n",
       "      <th>min</th>\n",
       "      <td>-1.0</td>\n",
       "      <td>-18388.9</td>\n",
       "      <td>0.0</td>\n",
       "      <td>20667.3</td>\n",
       "    </tr>\n",
       "    <tr>\n",
       "      <th>25%</th>\n",
       "      <td>0.0</td>\n",
       "      <td>-2747.4</td>\n",
       "      <td>33.0</td>\n",
       "      <td>103053.2</td>\n",
       "    </tr>\n",
       "    <tr>\n",
       "      <th>50%</th>\n",
       "      <td>0.0</td>\n",
       "      <td>-1203.4</td>\n",
       "      <td>42.0</td>\n",
       "      <td>145017.9</td>\n",
       "    </tr>\n",
       "    <tr>\n",
       "      <th>75%</th>\n",
       "      <td>1.0</td>\n",
       "      <td>-291.1</td>\n",
       "      <td>53.0</td>\n",
       "      <td>203435.1</td>\n",
       "    </tr>\n",
       "    <tr>\n",
       "      <th>max</th>\n",
       "      <td>20.0</td>\n",
       "      <td>401755.4</td>\n",
       "      <td>75.0</td>\n",
       "      <td>2265604.0</td>\n",
       "    </tr>\n",
       "  </tbody>\n",
       "</table>\n",
       "</div>"
      ],
      "text/plain": [
       "       children  days_employed  dob_years  total_income\n",
       "count   21525.0        19351.0    21525.0       19351.0\n",
       "mean        0.5        63046.5       43.3      167422.3\n",
       "std         1.4       140827.3       12.6      102971.6\n",
       "min        -1.0       -18388.9        0.0       20667.3\n",
       "25%         0.0        -2747.4       33.0      103053.2\n",
       "50%         0.0        -1203.4       42.0      145017.9\n",
       "75%         1.0         -291.1       53.0      203435.1\n",
       "max        20.0       401755.4       75.0     2265604.0"
      ]
     },
     "execution_count": 4,
     "metadata": {},
     "output_type": "execute_result"
    }
   ],
   "source": [
    "# Выберем 'количественные колонки'\n",
    "columns_values = ['children',\n",
    "                  'days_employed',\n",
    "                  'dob_years',\n",
    "                  'total_income']\n",
    "\n",
    "# Выберем 'категориальные колонки'\n",
    "columns_category = ['education',\n",
    "                    'education_id',\n",
    "                    'family_status',\n",
    "                    'family_status_id',\n",
    "                    'gender',\n",
    "                    'income_type',\n",
    "                    'debt',\n",
    "                    'purpose' ]\n",
    "\n",
    "# Проверим количественные колонки\n",
    "round( df[ columns_values ].describe(), 1 )"
   ]
  },
  {
   "cell_type": "markdown",
   "metadata": {},
   "source": [
    "Нам не повезло: нас ждут дети в количестве -1 и 20, заявители из ясельной группы (возраст равен нулю), а также отрицательный (и тысячелетний(!)) стаж работы.\n",
    "\n",
    "В нормальной ситуации, у меня было бы много вопросов к владельцу этих данных. Но у нас образовательное упражнение, поэтому я исправлю эти артефакты исходя из нескольких предположений:\n",
    "\n",
    "1. `children = -1` и `children = 20` - вероятно, какая-то логика исправления ошибок в системе. Видимо, при ошибке ввода в базу записывается -1. А 20 - ограничение сверху (это также подтверждается отсутствием значений между 5 и 20). Заменим их средним значением для соответствующей группы `income_type`. Так, у пенсионера, скорей всего, будет несколько детей, а у студента - ни одного. Это предположение натянуто для `children = 20`, но, учитывая сжатые сроки, других у меня нет. :(\n",
    "\n",
    "2. Сделаем то же самое для `dob_years`. Вряд ли мы увидим 60-летних студентов, или 20-летних пенсионеров. \n",
    "\n",
    "3. `days_employed` немного сложнее. У нас здесь две проблемы: отрицательные значения и тысячелетия. Отрицательные значения можно исправить функцией `abs()` (возможно, ошибки импорта данных). Я думал, что тысячелетия - это, стаж работы в часах, а не днях. После трех часов раскопок, я все равно получил `days_employed` >> `dob_years`...Т.к эта колонка не будет использована в проверке гипотез, то мы ее просто убьем.\n",
    "\n",
    "Выполним эти приседания."
   ]
  },
  {
   "cell_type": "code",
   "execution_count": 5,
   "metadata": {},
   "outputs": [
    {
     "data": {
      "text/html": [
       "<div>\n",
       "<style scoped>\n",
       "    .dataframe tbody tr th:only-of-type {\n",
       "        vertical-align: middle;\n",
       "    }\n",
       "\n",
       "    .dataframe tbody tr th {\n",
       "        vertical-align: top;\n",
       "    }\n",
       "\n",
       "    .dataframe thead th {\n",
       "        text-align: right;\n",
       "    }\n",
       "</style>\n",
       "<table border=\"1\" class=\"dataframe\">\n",
       "  <thead>\n",
       "    <tr style=\"text-align: right;\">\n",
       "      <th></th>\n",
       "      <th>children</th>\n",
       "      <th>dob_years</th>\n",
       "      <th>total_income</th>\n",
       "    </tr>\n",
       "  </thead>\n",
       "  <tbody>\n",
       "    <tr>\n",
       "      <th>count</th>\n",
       "      <td>21525.0</td>\n",
       "      <td>21525.0</td>\n",
       "      <td>19351.0</td>\n",
       "    </tr>\n",
       "    <tr>\n",
       "      <th>mean</th>\n",
       "      <td>0.5</td>\n",
       "      <td>43.5</td>\n",
       "      <td>167422.3</td>\n",
       "    </tr>\n",
       "    <tr>\n",
       "      <th>std</th>\n",
       "      <td>0.8</td>\n",
       "      <td>12.2</td>\n",
       "      <td>102971.6</td>\n",
       "    </tr>\n",
       "    <tr>\n",
       "      <th>min</th>\n",
       "      <td>0.0</td>\n",
       "      <td>19.0</td>\n",
       "      <td>20667.3</td>\n",
       "    </tr>\n",
       "    <tr>\n",
       "      <th>25%</th>\n",
       "      <td>0.0</td>\n",
       "      <td>34.0</td>\n",
       "      <td>103053.2</td>\n",
       "    </tr>\n",
       "    <tr>\n",
       "      <th>50%</th>\n",
       "      <td>0.0</td>\n",
       "      <td>43.0</td>\n",
       "      <td>145017.9</td>\n",
       "    </tr>\n",
       "    <tr>\n",
       "      <th>75%</th>\n",
       "      <td>1.0</td>\n",
       "      <td>53.0</td>\n",
       "      <td>203435.1</td>\n",
       "    </tr>\n",
       "    <tr>\n",
       "      <th>max</th>\n",
       "      <td>5.0</td>\n",
       "      <td>75.0</td>\n",
       "      <td>2265604.0</td>\n",
       "    </tr>\n",
       "  </tbody>\n",
       "</table>\n",
       "</div>"
      ],
      "text/plain": [
       "       children  dob_years  total_income\n",
       "count   21525.0    21525.0       19351.0\n",
       "mean        0.5       43.5      167422.3\n",
       "std         0.8       12.2      102971.6\n",
       "min         0.0       19.0       20667.3\n",
       "25%         0.0       34.0      103053.2\n",
       "50%         0.0       43.0      145017.9\n",
       "75%         1.0       53.0      203435.1\n",
       "max         5.0       75.0     2265604.0"
      ]
     },
     "execution_count": 5,
     "metadata": {},
     "output_type": "execute_result"
    }
   ],
   "source": [
    "# 1. Заменим подозрительное количество детей на NaN\n",
    "df.children = df.children.replace( { -1: np.nan, 20: np.nan } )\n",
    "\n",
    "# Заменим NaN на среднее количество детей в каждой категории income_type\n",
    "df.children = df.children.fillna( df.groupby( 'income_type' ).children.transform( 'mean' ) )\n",
    "\n",
    "# Убедимся, что все дети целочисленные. Мы сломали тип данных в этой колонке - починим в следующей секции\n",
    "df.children = round( df.children )\n",
    "\n",
    "# 2. Заменяем неродившихся в колонке dob_years на NaN\n",
    "df.dob_years = df.dob_years.replace( 0, np.nan )\n",
    "\n",
    "# Заменим NaN на средний возраст в каждой категории income_type\n",
    "df.dob_years = df.dob_years.fillna( df.groupby( 'income_type' ).dob_years.transform( 'mean' ) )\n",
    "\n",
    "# 3. Сделаем days_employed положительными\n",
    "df.drop( 'days_employed', inplace=True, axis=1 )\n",
    "columns_values.remove( 'days_employed' )\n",
    "\n",
    "# Проверим успех\n",
    "round( df[ columns_values ].describe(), 1 )"
   ]
  },
  {
   "cell_type": "markdown",
   "metadata": {},
   "source": [
    "Ура! Эти значения теперь выглядит достаточно прилично. Посмотрим на вторую часть этого упражнения."
   ]
  },
  {
   "cell_type": "code",
   "execution_count": 6,
   "metadata": {},
   "outputs": [
    {
     "name": "stdout",
     "output_type": "stream",
     "text": [
      "Название колонки: education\n",
      "Список уникальных значений:\n"
     ]
    },
    {
     "data": {
      "text/plain": [
       "среднее                13750\n",
       "высшее                  4718\n",
       "СРЕДНЕЕ                  772\n",
       "Среднее                  711\n",
       "неоконченное высшее      668\n",
       "ВЫСШЕЕ                   274\n",
       "Высшее                   268\n",
       "начальное                250\n",
       "Неоконченное высшее       47\n",
       "НЕОКОНЧЕННОЕ ВЫСШЕЕ       29\n",
       "НАЧАЛЬНОЕ                 17\n",
       "Начальное                 15\n",
       "ученая степень             4\n",
       "Ученая степень             1\n",
       "УЧЕНАЯ СТЕПЕНЬ             1\n",
       "Name: education, dtype: int64"
      ]
     },
     "metadata": {},
     "output_type": "display_data"
    },
    {
     "name": "stdout",
     "output_type": "stream",
     "text": [
      "--------------------------------------------------\n",
      "Название колонки: education_id\n",
      "Список уникальных значений:\n"
     ]
    },
    {
     "data": {
      "text/plain": [
       "1    15233\n",
       "0     5260\n",
       "2      744\n",
       "3      282\n",
       "4        6\n",
       "Name: education_id, dtype: int64"
      ]
     },
     "metadata": {},
     "output_type": "display_data"
    },
    {
     "name": "stdout",
     "output_type": "stream",
     "text": [
      "--------------------------------------------------\n",
      "Название колонки: family_status\n",
      "Список уникальных значений:\n"
     ]
    },
    {
     "data": {
      "text/plain": [
       "женат / замужем          12380\n",
       "гражданский брак          4177\n",
       "Не женат / не замужем     2813\n",
       "в разводе                 1195\n",
       "вдовец / вдова             960\n",
       "Name: family_status, dtype: int64"
      ]
     },
     "metadata": {},
     "output_type": "display_data"
    },
    {
     "name": "stdout",
     "output_type": "stream",
     "text": [
      "--------------------------------------------------\n",
      "Название колонки: family_status_id\n",
      "Список уникальных значений:\n"
     ]
    },
    {
     "data": {
      "text/plain": [
       "0    12380\n",
       "1     4177\n",
       "4     2813\n",
       "3     1195\n",
       "2      960\n",
       "Name: family_status_id, dtype: int64"
      ]
     },
     "metadata": {},
     "output_type": "display_data"
    },
    {
     "name": "stdout",
     "output_type": "stream",
     "text": [
      "--------------------------------------------------\n",
      "Название колонки: gender\n",
      "Список уникальных значений:\n"
     ]
    },
    {
     "data": {
      "text/plain": [
       "F      14236\n",
       "M       7288\n",
       "XNA        1\n",
       "Name: gender, dtype: int64"
      ]
     },
     "metadata": {},
     "output_type": "display_data"
    },
    {
     "name": "stdout",
     "output_type": "stream",
     "text": [
      "--------------------------------------------------\n",
      "Название колонки: income_type\n",
      "Список уникальных значений:\n"
     ]
    },
    {
     "data": {
      "text/plain": [
       "сотрудник          11119\n",
       "компаньон           5085\n",
       "пенсионер           3856\n",
       "госслужащий         1459\n",
       "безработный            2\n",
       "предприниматель        2\n",
       "студент                1\n",
       "в декрете              1\n",
       "Name: income_type, dtype: int64"
      ]
     },
     "metadata": {},
     "output_type": "display_data"
    },
    {
     "name": "stdout",
     "output_type": "stream",
     "text": [
      "--------------------------------------------------\n",
      "Название колонки: debt\n",
      "Список уникальных значений:\n"
     ]
    },
    {
     "data": {
      "text/plain": [
       "0    19784\n",
       "1     1741\n",
       "Name: debt, dtype: int64"
      ]
     },
     "metadata": {},
     "output_type": "display_data"
    },
    {
     "name": "stdout",
     "output_type": "stream",
     "text": [
      "--------------------------------------------------\n",
      "Название колонки: purpose\n",
      "Список уникальных значений:\n"
     ]
    },
    {
     "data": {
      "text/plain": [
       "свадьба                                   797\n",
       "на проведение свадьбы                     777\n",
       "сыграть свадьбу                           774\n",
       "операции с недвижимостью                  676\n",
       "покупка коммерческой недвижимости         664\n",
       "покупка жилья для сдачи                   653\n",
       "операции с жильем                         653\n",
       "операции с коммерческой недвижимостью     651\n",
       "покупка жилья                             647\n",
       "жилье                                     647\n",
       "покупка жилья для семьи                   641\n",
       "строительство собственной недвижимости    635\n",
       "недвижимость                              634\n",
       "операции со своей недвижимостью           630\n",
       "строительство жилой недвижимости          626\n",
       "покупка недвижимости                      624\n",
       "строительство недвижимости                620\n",
       "покупка своего жилья                      620\n",
       "ремонт жилью                              612\n",
       "покупка жилой недвижимости                607\n",
       "на покупку своего автомобиля              505\n",
       "заняться высшим образованием              496\n",
       "автомобиль                                495\n",
       "сделка с подержанным автомобилем          489\n",
       "свой автомобиль                           480\n",
       "на покупку подержанного автомобиля        479\n",
       "автомобили                                478\n",
       "на покупку автомобиля                     472\n",
       "дополнительное образование                462\n",
       "приобретение автомобиля                   462\n",
       "сделка с автомобилем                      455\n",
       "высшее образование                        453\n",
       "образование                               447\n",
       "получение дополнительного образования     447\n",
       "получение образования                     443\n",
       "профильное образование                    436\n",
       "получение высшего образования             426\n",
       "заняться образованием                     412\n",
       "Name: purpose, dtype: int64"
      ]
     },
     "metadata": {},
     "output_type": "display_data"
    },
    {
     "name": "stdout",
     "output_type": "stream",
     "text": [
      "--------------------------------------------------\n"
     ]
    }
   ],
   "source": [
    "# Проверим уникальные значения в 'категориальные' колонках\n",
    "for column in columns_category:\n",
    "    print( 'Название колонки:', column )\n",
    "    print( 'Список уникальных значений:' )\n",
    "    display( raw_df[ column ].value_counts() )\n",
    "    print( '-' * 50 )"
   ]
  },
  {
   "cell_type": "markdown",
   "metadata": {},
   "source": [
    "Нам повезло: приключения нас ждут только в колонках `education` и `family_status` (разный регистр), `gender` (имеется странное значение `XNA`) и `purpose` (похожие по смыслу категории 'приобретение автомобиля' и 'покупка автомобиля'). Эти проблемы (кроме `XNA`) мы устраним в следующих секциях."
   ]
  },
  {
   "cell_type": "code",
   "execution_count": 7,
   "metadata": {},
   "outputs": [],
   "source": [
    "# Уберем XNA из датасета\n",
    "df = df[ df.gender != 'XNA' ]"
   ]
  },
  {
   "cell_type": "markdown",
   "metadata": {},
   "source": [
    "### 2 - Отсутствующие значения в стобцах\n",
    "Поехали дальше."
   ]
  },
  {
   "cell_type": "code",
   "execution_count": 8,
   "metadata": {},
   "outputs": [
    {
     "data": {
      "text/plain": [
       "children               0\n",
       "dob_years              0\n",
       "education              0\n",
       "education_id           0\n",
       "family_status          0\n",
       "family_status_id       0\n",
       "gender                 0\n",
       "income_type            0\n",
       "debt                   0\n",
       "total_income        2174\n",
       "purpose                0\n",
       "dtype: int64"
      ]
     },
     "execution_count": 8,
     "metadata": {},
     "output_type": "execute_result"
    }
   ],
   "source": [
    "# Посчитаем количество пропусков в данных\n",
    "df.isna().sum()"
   ]
  },
  {
   "cell_type": "markdown",
   "metadata": {},
   "source": [
    "Как мы и предполагали - у нас есть пропуски в колонке `total_income`. Посмотрим какую долю от общего количества строк они составляют."
   ]
  },
  {
   "cell_type": "markdown",
   "metadata": {},
   "source": [
    "Количество пустых значений также равно 2174 - значит в одной строчке значение пропущено в двух столбцах. Тогда можем работать с пустыми значениями построчно.\n",
    "\n",
    "Теперь проверим какую долю пустые строки занимают во всем датасете."
   ]
  },
  {
   "cell_type": "code",
   "execution_count": 9,
   "metadata": {},
   "outputs": [
    {
     "name": "stdout",
     "output_type": "stream",
     "text": [
      "Доля пустых строк в датасете: 10.1 %\n"
     ]
    },
    {
     "data": {
      "text/html": [
       "<div>\n",
       "<style scoped>\n",
       "    .dataframe tbody tr th:only-of-type {\n",
       "        vertical-align: middle;\n",
       "    }\n",
       "\n",
       "    .dataframe tbody tr th {\n",
       "        vertical-align: top;\n",
       "    }\n",
       "\n",
       "    .dataframe thead th {\n",
       "        text-align: right;\n",
       "    }\n",
       "</style>\n",
       "<table border=\"1\" class=\"dataframe\">\n",
       "  <thead>\n",
       "    <tr style=\"text-align: right;\">\n",
       "      <th></th>\n",
       "      <th>children</th>\n",
       "      <th>dob_years</th>\n",
       "      <th>education</th>\n",
       "      <th>education_id</th>\n",
       "      <th>family_status</th>\n",
       "      <th>family_status_id</th>\n",
       "      <th>gender</th>\n",
       "      <th>income_type</th>\n",
       "      <th>debt</th>\n",
       "      <th>total_income</th>\n",
       "      <th>purpose</th>\n",
       "    </tr>\n",
       "  </thead>\n",
       "  <tbody>\n",
       "    <tr>\n",
       "      <th>12</th>\n",
       "      <td>0.0</td>\n",
       "      <td>65.0</td>\n",
       "      <td>среднее</td>\n",
       "      <td>1</td>\n",
       "      <td>гражданский брак</td>\n",
       "      <td>1</td>\n",
       "      <td>M</td>\n",
       "      <td>пенсионер</td>\n",
       "      <td>0</td>\n",
       "      <td>NaN</td>\n",
       "      <td>сыграть свадьбу</td>\n",
       "    </tr>\n",
       "    <tr>\n",
       "      <th>26</th>\n",
       "      <td>0.0</td>\n",
       "      <td>41.0</td>\n",
       "      <td>среднее</td>\n",
       "      <td>1</td>\n",
       "      <td>женат / замужем</td>\n",
       "      <td>0</td>\n",
       "      <td>M</td>\n",
       "      <td>госслужащий</td>\n",
       "      <td>0</td>\n",
       "      <td>NaN</td>\n",
       "      <td>образование</td>\n",
       "    </tr>\n",
       "    <tr>\n",
       "      <th>29</th>\n",
       "      <td>0.0</td>\n",
       "      <td>63.0</td>\n",
       "      <td>среднее</td>\n",
       "      <td>1</td>\n",
       "      <td>Не женат / не замужем</td>\n",
       "      <td>4</td>\n",
       "      <td>F</td>\n",
       "      <td>пенсионер</td>\n",
       "      <td>0</td>\n",
       "      <td>NaN</td>\n",
       "      <td>строительство жилой недвижимости</td>\n",
       "    </tr>\n",
       "    <tr>\n",
       "      <th>41</th>\n",
       "      <td>0.0</td>\n",
       "      <td>50.0</td>\n",
       "      <td>среднее</td>\n",
       "      <td>1</td>\n",
       "      <td>женат / замужем</td>\n",
       "      <td>0</td>\n",
       "      <td>F</td>\n",
       "      <td>госслужащий</td>\n",
       "      <td>0</td>\n",
       "      <td>NaN</td>\n",
       "      <td>сделка с подержанным автомобилем</td>\n",
       "    </tr>\n",
       "    <tr>\n",
       "      <th>55</th>\n",
       "      <td>0.0</td>\n",
       "      <td>54.0</td>\n",
       "      <td>среднее</td>\n",
       "      <td>1</td>\n",
       "      <td>гражданский брак</td>\n",
       "      <td>1</td>\n",
       "      <td>F</td>\n",
       "      <td>пенсионер</td>\n",
       "      <td>1</td>\n",
       "      <td>NaN</td>\n",
       "      <td>сыграть свадьбу</td>\n",
       "    </tr>\n",
       "  </tbody>\n",
       "</table>\n",
       "</div>"
      ],
      "text/plain": [
       "    children  dob_years education  education_id          family_status  \\\n",
       "12       0.0       65.0   среднее             1       гражданский брак   \n",
       "26       0.0       41.0   среднее             1        женат / замужем   \n",
       "29       0.0       63.0   среднее             1  Не женат / не замужем   \n",
       "41       0.0       50.0   среднее             1        женат / замужем   \n",
       "55       0.0       54.0   среднее             1       гражданский брак   \n",
       "\n",
       "    family_status_id gender  income_type  debt  total_income  \\\n",
       "12                 1      M    пенсионер     0           NaN   \n",
       "26                 0      M  госслужащий     0           NaN   \n",
       "29                 4      F    пенсионер     0           NaN   \n",
       "41                 0      F  госслужащий     0           NaN   \n",
       "55                 1      F    пенсионер     1           NaN   \n",
       "\n",
       "                             purpose  \n",
       "12                   сыграть свадьбу  \n",
       "26                       образование  \n",
       "29  строительство жилой недвижимости  \n",
       "41  сделка с подержанным автомобилем  \n",
       "55                   сыграть свадьбу  "
      ]
     },
     "metadata": {},
     "output_type": "display_data"
    }
   ],
   "source": [
    "# Поделим количество пропущенных строк в total_income на общее количесто строк (возьмем children как колонку со всеми значениями)\n",
    "print( 'Доля пустых строк в датасете:', round( df.total_income.isna().sum() / df.children.count() * 100, 1), '%'  )\n",
    "display( df[ df.total_income.isna() ].head() )"
   ]
  },
  {
   "cell_type": "markdown",
   "metadata": {},
   "source": [
    "Нам опять повезло: количество пропущенных значений относительно мало. Похоже, что они все случайны: вряд ли у нас был мужчина-госслужащий даже со средним образованием без опыта работы и без какого-либо заработка (см. строку 26). Поэтому, мы можем заменить эти значения средними в рамках одного типа занятости: такой подход несильно исказит общую картину, учитывая, что у нас может быть большой разбег в значениях дохода для разных групп."
   ]
  },
  {
   "cell_type": "code",
   "execution_count": 10,
   "metadata": {},
   "outputs": [],
   "source": [
    "# Перезапишем колонку totol_income. Теперь вместо пустых значений будут стоять средние значения для каждой категории income_type\n",
    "df.total_income = df.total_income.fillna( df.groupby('income_type').total_income.transform( 'mean' ) )"
   ]
  },
  {
   "cell_type": "markdown",
   "metadata": {},
   "source": [
    "### 3 - Повторяющиеся строки, нестандратные названия категорий и типы данных в колонках\n",
    "\n",
    "Пора посмотреть на возможные повторы. Т.к. у нас нету уникальных идентификаторов записи в датасете, то я подойду к проблеме напрямую: если есть строчки, где все значения одинаковые - будем считать это дубликатом.\n",
    "\n",
    "В новом задании предлагается сначала стандартизировать регистр и типы данных. Я предлагаю сначала удалить дубликаты, а потом уже приступить к стандартизации: во-первых, `total_income` имеет много знаков после запятой (может, значение было переведено из одной валюты в другую) - этим можно повысить \"уникальность\" строки; во-вторых, если предположить, что разный регистр в `income_type` - это следствие ручного ввода данных человеком, то это тоже поможет избежать удаления лишних строк."
   ]
  },
  {
   "cell_type": "code",
   "execution_count": 11,
   "metadata": {},
   "outputs": [
    {
     "name": "stdout",
     "output_type": "stream",
     "text": [
      "Количество повторяющихся строк: 54\n"
     ]
    },
    {
     "data": {
      "text/html": [
       "<div>\n",
       "<style scoped>\n",
       "    .dataframe tbody tr th:only-of-type {\n",
       "        vertical-align: middle;\n",
       "    }\n",
       "\n",
       "    .dataframe tbody tr th {\n",
       "        vertical-align: top;\n",
       "    }\n",
       "\n",
       "    .dataframe thead th {\n",
       "        text-align: right;\n",
       "    }\n",
       "</style>\n",
       "<table border=\"1\" class=\"dataframe\">\n",
       "  <thead>\n",
       "    <tr style=\"text-align: right;\">\n",
       "      <th></th>\n",
       "      <th>children</th>\n",
       "      <th>dob_years</th>\n",
       "      <th>education</th>\n",
       "      <th>education_id</th>\n",
       "      <th>family_status</th>\n",
       "      <th>family_status_id</th>\n",
       "      <th>gender</th>\n",
       "      <th>income_type</th>\n",
       "      <th>debt</th>\n",
       "      <th>total_income</th>\n",
       "      <th>purpose</th>\n",
       "    </tr>\n",
       "  </thead>\n",
       "  <tbody>\n",
       "    <tr>\n",
       "      <th>18349</th>\n",
       "      <td>1.0</td>\n",
       "      <td>30.0</td>\n",
       "      <td>высшее</td>\n",
       "      <td>0</td>\n",
       "      <td>женат / замужем</td>\n",
       "      <td>0</td>\n",
       "      <td>F</td>\n",
       "      <td>госслужащий</td>\n",
       "      <td>0</td>\n",
       "      <td>170898.309923</td>\n",
       "      <td>покупка жилья для семьи</td>\n",
       "    </tr>\n",
       "    <tr>\n",
       "      <th>14432</th>\n",
       "      <td>2.0</td>\n",
       "      <td>36.0</td>\n",
       "      <td>высшее</td>\n",
       "      <td>0</td>\n",
       "      <td>женат / замужем</td>\n",
       "      <td>0</td>\n",
       "      <td>F</td>\n",
       "      <td>госслужащий</td>\n",
       "      <td>0</td>\n",
       "      <td>170898.309923</td>\n",
       "      <td>получение образования</td>\n",
       "    </tr>\n",
       "    <tr>\n",
       "      <th>13878</th>\n",
       "      <td>1.0</td>\n",
       "      <td>31.0</td>\n",
       "      <td>среднее</td>\n",
       "      <td>1</td>\n",
       "      <td>женат / замужем</td>\n",
       "      <td>0</td>\n",
       "      <td>F</td>\n",
       "      <td>компаньон</td>\n",
       "      <td>0</td>\n",
       "      <td>202417.136353</td>\n",
       "      <td>покупка жилья</td>\n",
       "    </tr>\n",
       "    <tr>\n",
       "      <th>19387</th>\n",
       "      <td>0.0</td>\n",
       "      <td>38.0</td>\n",
       "      <td>высшее</td>\n",
       "      <td>0</td>\n",
       "      <td>гражданский брак</td>\n",
       "      <td>1</td>\n",
       "      <td>F</td>\n",
       "      <td>компаньон</td>\n",
       "      <td>0</td>\n",
       "      <td>202417.136353</td>\n",
       "      <td>на проведение свадьбы</td>\n",
       "    </tr>\n",
       "    <tr>\n",
       "      <th>10697</th>\n",
       "      <td>0.0</td>\n",
       "      <td>40.0</td>\n",
       "      <td>среднее</td>\n",
       "      <td>1</td>\n",
       "      <td>гражданский брак</td>\n",
       "      <td>1</td>\n",
       "      <td>F</td>\n",
       "      <td>компаньон</td>\n",
       "      <td>0</td>\n",
       "      <td>202417.136353</td>\n",
       "      <td>сыграть свадьбу</td>\n",
       "    </tr>\n",
       "  </tbody>\n",
       "</table>\n",
       "</div>"
      ],
      "text/plain": [
       "       children  dob_years education  education_id     family_status  \\\n",
       "18349       1.0       30.0    высшее             0   женат / замужем   \n",
       "14432       2.0       36.0    высшее             0   женат / замужем   \n",
       "13878       1.0       31.0   среднее             1   женат / замужем   \n",
       "19387       0.0       38.0    высшее             0  гражданский брак   \n",
       "10697       0.0       40.0   среднее             1  гражданский брак   \n",
       "\n",
       "       family_status_id gender  income_type  debt   total_income  \\\n",
       "18349                 0      F  госслужащий     0  170898.309923   \n",
       "14432                 0      F  госслужащий     0  170898.309923   \n",
       "13878                 0      F    компаньон     0  202417.136353   \n",
       "19387                 1      F    компаньон     0  202417.136353   \n",
       "10697                 1      F    компаньон     0  202417.136353   \n",
       "\n",
       "                       purpose  \n",
       "18349  покупка жилья для семьи  \n",
       "14432    получение образования  \n",
       "13878            покупка жилья  \n",
       "19387    на проведение свадьбы  \n",
       "10697          сыграть свадьбу  "
      ]
     },
     "metadata": {},
     "output_type": "display_data"
    }
   ],
   "source": [
    "# Посчитаем количество повторяющихся строк (без учета первой встретившейся строки)\n",
    "print( 'Количество повторяющихся строк:', df.duplicated().sum() )\n",
    "\n",
    "# Посмотрим на виноватых\n",
    "display( df[ df.duplicated() ].sort_values( by=['income_type', 'dob_years'] ).head() )"
   ]
  },
  {
   "cell_type": "markdown",
   "metadata": {},
   "source": [
    "Похоже, все повторяющиеся строки случайны: в этих заявках не были указаны значения `total_income` (поэтому они одинаковые - мы их заменили средними). Так как мы не значем что такое NaN в контексте этих данных (значение не указано, потому что пропустили или потому что оно равно нулю), то простым решением будет вырезать эти строки из датасета."
   ]
  },
  {
   "cell_type": "code",
   "execution_count": 12,
   "metadata": {},
   "outputs": [
    {
     "name": "stdout",
     "output_type": "stream",
     "text": [
      "<class 'pandas.core.frame.DataFrame'>\n",
      "Int64Index: 21470 entries, 0 to 21524\n",
      "Data columns (total 11 columns):\n",
      " #   Column            Non-Null Count  Dtype \n",
      "---  ------            --------------  ----- \n",
      " 0   children          21470 non-null  int64 \n",
      " 1   dob_years         21470 non-null  int64 \n",
      " 2   education         21470 non-null  object\n",
      " 3   education_id      21470 non-null  int64 \n",
      " 4   family_status     21470 non-null  object\n",
      " 5   family_status_id  21470 non-null  int64 \n",
      " 6   gender            21470 non-null  object\n",
      " 7   income_type       21470 non-null  object\n",
      " 8   debt              21470 non-null  int64 \n",
      " 9   total_income      21470 non-null  int64 \n",
      " 10  purpose           21470 non-null  object\n",
      "dtypes: int64(6), object(5)\n",
      "memory usage: 2.0+ MB\n"
     ]
    }
   ],
   "source": [
    "# Уберем повторяющиеся строки - сделаем это до исправления регистра\n",
    "df = df.drop_duplicates()\n",
    "\n",
    "# Нижний регистр для образования и семейного положения\n",
    "for column in ['education', 'family_status']:\n",
    "    df[ column ] = df[ column ].str.lower()\n",
    "    \n",
    "# Зададим тип данных в колонках\n",
    "df[ [ 'children', 'dob_years', 'total_income' ] ] = df[ [ 'children', 'dob_years', 'total_income' ] ].astype('int64')\n",
    "\n",
    "# Посмотрим, что получилось\n",
    "df.info()"
   ]
  },
  {
   "cell_type": "markdown",
   "metadata": {},
   "source": [
    "### 4 - Словари (lookup tables)\n",
    "\n",
    "В датасете у нас есть две колонки, которые могут быть использованы как ключи - `education_id` и `family_status_id`. Выделим их и соответсвтующие словари в отдельные таблицы."
   ]
  },
  {
   "cell_type": "code",
   "execution_count": 13,
   "metadata": {},
   "outputs": [],
   "source": [
    "# Словарь education\n",
    "lut_education = df[ [ 'education_id', 'education' ] ].drop_duplicates().reset_index( drop=True )\n",
    "\n",
    "# Словарь family_status\n",
    "lut_family_status = df[ [ 'family_status_id', 'family_status' ] ].drop_duplicates().reset_index( drop=True )"
   ]
  },
  {
   "cell_type": "markdown",
   "metadata": {},
   "source": [
    "### 5 - Классификация `total_income`"
   ]
  },
  {
   "cell_type": "markdown",
   "metadata": {},
   "source": [
    "На основании диапазонов, указанных ниже, создадим столбец `total_income_category` с категориями:\n",
    "- **E**: 0 – 30,000\n",
    "- **D**: 30,001 – 50,000\n",
    "- **C**: 50,001 – 200,000\n",
    "- **B**: 200,001 – 1,000,000\n",
    "- **A**: 1,000,001 и выше."
   ]
  },
  {
   "cell_type": "code",
   "execution_count": 14,
   "metadata": {},
   "outputs": [],
   "source": [
    "# Функция для категоризации\n",
    "def fun_categorizer( value_for_categorization ):\n",
    "    \"\"\"\n",
    "    This function allocates a category for a variable based on its value. \n",
    "\n",
    "    Args:\n",
    "        value_for_categorization ([float or int]): value for categorization\n",
    "\n",
    "    Returns:\n",
    "        - 'E' if value_for_categorization <= 30,000\n",
    "        - 'D' if value_for_categorization = [30,001 : 50,000]\n",
    "        - 'C' if value_for_categorization = [50,001 : 200,000]\n",
    "        - 'B' if value_for_categorization = [200,001 : 1,000,000]\n",
    "        - 'A' if value_for_categorization >= 1,000,001\n",
    "    \"\"\"\n",
    "    if value_for_categorization <= 30e3:\n",
    "        return 'E'\n",
    "    elif 30e3 < value_for_categorization <= 50e3:\n",
    "        return 'D'\n",
    "    elif 50e3 < value_for_categorization <= 200e3:\n",
    "        return 'C'\n",
    "    elif 200e3 < value_for_categorization <= 1e6:\n",
    "        return 'B'\n",
    "    else:\n",
    "        return 'A'\n",
    "\n",
    "# Применим функцию к датасету\n",
    "df[ 'total_income_category' ] = df.total_income.apply( fun_categorizer )"
   ]
  },
  {
   "cell_type": "markdown",
   "metadata": {},
   "source": [
    "На этом можно закончить предобработку данных. Пора заняться исследованием!"
   ]
  },
  {
   "cell_type": "markdown",
   "metadata": {},
   "source": [
    "## Проверка гипотез\n",
    "\n",
    "Нам надо проверить 3 гипотезы:\n",
    "\n",
    "1. Есть ли зависимость между наличием детей и возвратом кредита в срок?\n",
    "2. Есть ли зависимость между семейным положением и возвратом кредита в срок?\n",
    "3. Есть ли зависимость между уровнем дохода и возвратом кредита в срок?\n",
    "\n",
    "Процесс проверки будет простым: для каждого из этих вопросов построим сводную таблицу. Строки таблицы будут соответствовать категориям, а столбцы - общему количеству людей в категории, количеству людей вернувших кредит в срок, количеству людей невернувших кредит в срок. На основе этих колонок вычислим соответсвтующие доли и потом сделаем вывод.\n",
    "\n",
    "Скажем, если разница между категориями более 3% - это статистически значимо, а значит зависимость есть. В обртном случае - зависимости нет. Я не имею опыта в статистике, но подозреваю, что в серьезном упражнении 3% были бы более аргументированы."
   ]
  },
  {
   "cell_type": "code",
   "execution_count": 15,
   "metadata": {},
   "outputs": [],
   "source": [
    "# Сделаем функцию, которая будет выдавать нам результаты\n",
    "def fun_counter( data, rows ):\n",
    "    # Сводная таблица #1 - влияние наличия детей\n",
    "    pivot = pd.pivot_table( df, \n",
    "                            values='gender', \n",
    "                            index=rows, \n",
    "                            columns='debt', \n",
    "                            aggfunc='count', \n",
    "                            fill_value=0 )\n",
    "\n",
    "    # Поправим названия колонок, чтобы легче было жить\n",
    "    pivot = pivot.rename( columns={ 0:'people_without_debt_no', 1:'people_with_debt_no' }, level=0 )\n",
    "\n",
    "    # Суммарное количество людей в категории\n",
    "    pivot['people_total'] = pivot.people_without_debt_no + pivot.people_with_debt_no\n",
    "\n",
    "    # Доля людей имеющих и не имеющих задолжность\n",
    "    pivot['people_without_debt_per'] = pivot.people_without_debt_no / pivot.people_total\n",
    "    pivot['people_with_debt_per'] = pivot.people_with_debt_no / pivot.people_total\n",
    "      \n",
    "    # Возвращаем табличку\n",
    "    return pivot.sort_values( by=[ 'people_with_debt_per', 'people_total' ] )"
   ]
  },
  {
   "cell_type": "markdown",
   "metadata": {},
   "source": [
    "### 1 - Зависимость между наличием детей и возвратом кредита в срок\n",
    "\n",
    "Проверим, что получилось для первой гипотезы."
   ]
  },
  {
   "cell_type": "code",
   "execution_count": 17,
   "metadata": {},
   "outputs": [
    {
     "data": {
      "text/html": [
       "<div>\n",
       "<style scoped>\n",
       "    .dataframe tbody tr th:only-of-type {\n",
       "        vertical-align: middle;\n",
       "    }\n",
       "\n",
       "    .dataframe tbody tr th {\n",
       "        vertical-align: top;\n",
       "    }\n",
       "\n",
       "    .dataframe thead th {\n",
       "        text-align: right;\n",
       "    }\n",
       "</style>\n",
       "<table border=\"1\" class=\"dataframe\">\n",
       "  <thead>\n",
       "    <tr style=\"text-align: right;\">\n",
       "      <th>debt</th>\n",
       "      <th>people_without_debt_no</th>\n",
       "      <th>people_with_debt_no</th>\n",
       "      <th>people_total</th>\n",
       "      <th>people_without_debt_per</th>\n",
       "      <th>people_with_debt_per</th>\n",
       "    </tr>\n",
       "    <tr>\n",
       "      <th>children</th>\n",
       "      <th></th>\n",
       "      <th></th>\n",
       "      <th></th>\n",
       "      <th></th>\n",
       "      <th></th>\n",
       "    </tr>\n",
       "  </thead>\n",
       "  <tbody>\n",
       "    <tr>\n",
       "      <th>5</th>\n",
       "      <td>9</td>\n",
       "      <td>0</td>\n",
       "      <td>9</td>\n",
       "      <td>1.000000</td>\n",
       "      <td>0.000000</td>\n",
       "    </tr>\n",
       "    <tr>\n",
       "      <th>0</th>\n",
       "      <td>13060</td>\n",
       "      <td>1063</td>\n",
       "      <td>14123</td>\n",
       "      <td>0.924733</td>\n",
       "      <td>0.075267</td>\n",
       "    </tr>\n",
       "    <tr>\n",
       "      <th>3</th>\n",
       "      <td>303</td>\n",
       "      <td>27</td>\n",
       "      <td>330</td>\n",
       "      <td>0.918182</td>\n",
       "      <td>0.081818</td>\n",
       "    </tr>\n",
       "    <tr>\n",
       "      <th>1</th>\n",
       "      <td>4462</td>\n",
       "      <td>453</td>\n",
       "      <td>4915</td>\n",
       "      <td>0.907833</td>\n",
       "      <td>0.092167</td>\n",
       "    </tr>\n",
       "    <tr>\n",
       "      <th>2</th>\n",
       "      <td>1858</td>\n",
       "      <td>194</td>\n",
       "      <td>2052</td>\n",
       "      <td>0.905458</td>\n",
       "      <td>0.094542</td>\n",
       "    </tr>\n",
       "    <tr>\n",
       "      <th>4</th>\n",
       "      <td>37</td>\n",
       "      <td>4</td>\n",
       "      <td>41</td>\n",
       "      <td>0.902439</td>\n",
       "      <td>0.097561</td>\n",
       "    </tr>\n",
       "  </tbody>\n",
       "</table>\n",
       "</div>"
      ],
      "text/plain": [
       "debt      people_without_debt_no  people_with_debt_no  people_total  \\\n",
       "children                                                              \n",
       "5                              9                    0             9   \n",
       "0                          13060                 1063         14123   \n",
       "3                            303                   27           330   \n",
       "1                           4462                  453          4915   \n",
       "2                           1858                  194          2052   \n",
       "4                             37                    4            41   \n",
       "\n",
       "debt      people_without_debt_per  people_with_debt_per  \n",
       "children                                                 \n",
       "5                        1.000000              0.000000  \n",
       "0                        0.924733              0.075267  \n",
       "3                        0.918182              0.081818  \n",
       "1                        0.907833              0.092167  \n",
       "2                        0.905458              0.094542  \n",
       "4                        0.902439              0.097561  "
      ]
     },
     "metadata": {},
     "output_type": "display_data"
    }
   ],
   "source": [
    "display( fun_counter( df, 'children' ) )"
   ]
  },
  {
   "cell_type": "markdown",
   "metadata": {},
   "source": [
    "Первое, что бросается в глаза - не все категории достаточно большие, чтобы делать выводы. Так, у нас есть мало людей у кого есть 3, 4 и 5 детей, но сильно больше (почти в 10 раз) людей, у кого нет детей, есть 1 или 2 ребенка.\n",
    "\n",
    "**Вывод:** Тем не менее, соагласно нашему критерию в 3% непохоже, чтобы была какая-то значимая зависимость между наличием детей и возвратом кредита в срок. Во всех категориях вероятность возврата состовляет около 90%"
   ]
  },
  {
   "cell_type": "markdown",
   "metadata": {},
   "source": [
    "### 2 - Зависимость между семейным положением и возвратом кредита в срок\n",
    "\n",
    "Проверим, что получилось для второй гипотезы."
   ]
  },
  {
   "cell_type": "code",
   "execution_count": 18,
   "metadata": {},
   "outputs": [
    {
     "data": {
      "text/html": [
       "<div>\n",
       "<style scoped>\n",
       "    .dataframe tbody tr th:only-of-type {\n",
       "        vertical-align: middle;\n",
       "    }\n",
       "\n",
       "    .dataframe tbody tr th {\n",
       "        vertical-align: top;\n",
       "    }\n",
       "\n",
       "    .dataframe thead th {\n",
       "        text-align: right;\n",
       "    }\n",
       "</style>\n",
       "<table border=\"1\" class=\"dataframe\">\n",
       "  <thead>\n",
       "    <tr style=\"text-align: right;\">\n",
       "      <th>debt</th>\n",
       "      <th>people_without_debt_no</th>\n",
       "      <th>people_with_debt_no</th>\n",
       "      <th>people_total</th>\n",
       "      <th>people_without_debt_per</th>\n",
       "      <th>people_with_debt_per</th>\n",
       "    </tr>\n",
       "    <tr>\n",
       "      <th>family_status</th>\n",
       "      <th></th>\n",
       "      <th></th>\n",
       "      <th></th>\n",
       "      <th></th>\n",
       "      <th></th>\n",
       "    </tr>\n",
       "  </thead>\n",
       "  <tbody>\n",
       "    <tr>\n",
       "      <th>вдовец / вдова</th>\n",
       "      <td>896</td>\n",
       "      <td>63</td>\n",
       "      <td>959</td>\n",
       "      <td>0.934307</td>\n",
       "      <td>0.065693</td>\n",
       "    </tr>\n",
       "    <tr>\n",
       "      <th>в разводе</th>\n",
       "      <td>1110</td>\n",
       "      <td>85</td>\n",
       "      <td>1195</td>\n",
       "      <td>0.928870</td>\n",
       "      <td>0.071130</td>\n",
       "    </tr>\n",
       "    <tr>\n",
       "      <th>женат / замужем</th>\n",
       "      <td>11413</td>\n",
       "      <td>931</td>\n",
       "      <td>12344</td>\n",
       "      <td>0.924579</td>\n",
       "      <td>0.075421</td>\n",
       "    </tr>\n",
       "    <tr>\n",
       "      <th>гражданский брак</th>\n",
       "      <td>3774</td>\n",
       "      <td>388</td>\n",
       "      <td>4162</td>\n",
       "      <td>0.906776</td>\n",
       "      <td>0.093224</td>\n",
       "    </tr>\n",
       "    <tr>\n",
       "      <th>не женат / не замужем</th>\n",
       "      <td>2536</td>\n",
       "      <td>274</td>\n",
       "      <td>2810</td>\n",
       "      <td>0.902491</td>\n",
       "      <td>0.097509</td>\n",
       "    </tr>\n",
       "  </tbody>\n",
       "</table>\n",
       "</div>"
      ],
      "text/plain": [
       "debt                   people_without_debt_no  people_with_debt_no  \\\n",
       "family_status                                                        \n",
       "вдовец / вдова                            896                   63   \n",
       "в разводе                                1110                   85   \n",
       "женат / замужем                         11413                  931   \n",
       "гражданский брак                         3774                  388   \n",
       "не женат / не замужем                    2536                  274   \n",
       "\n",
       "debt                   people_total  people_without_debt_per  \\\n",
       "family_status                                                  \n",
       "вдовец / вдова                  959                 0.934307   \n",
       "в разводе                      1195                 0.928870   \n",
       "женат / замужем               12344                 0.924579   \n",
       "гражданский брак               4162                 0.906776   \n",
       "не женат / не замужем          2810                 0.902491   \n",
       "\n",
       "debt                   people_with_debt_per  \n",
       "family_status                                \n",
       "вдовец / вдова                     0.065693  \n",
       "в разводе                          0.071130  \n",
       "женат / замужем                    0.075421  \n",
       "гражданский брак                   0.093224  \n",
       "не женат / не замужем              0.097509  "
      ]
     },
     "metadata": {},
     "output_type": "display_data"
    }
   ],
   "source": [
    "display( fun_counter( df, 'family_status' ) )"
   ]
  },
  {
   "cell_type": "markdown",
   "metadata": {},
   "source": [
    "В этом случае у нас более равномерная выборка (по сравнению с предыдущей гипотезой), поэтому посмотрим на все категории.\n",
    "\n",
    "**Вывод:** В этом случае у нас чуть более выраженная зависимость. Гражданский брак и отсутствие жены / мужа явно снижает вероятность возврата кредита (хотя она все еще около 90%) по сравнению с остальными категориями (вероятность возврата около 93%). Интересно, что самая надежная категория - это вдовец / вдова, хотя, вероятно, это следствие относительно маленькой выборки."
   ]
  },
  {
   "cell_type": "markdown",
   "metadata": {},
   "source": [
    "### 3 - Зависимость между уровнем дохода и возвратом кредита в срок\n",
    "\n",
    "Проверим, что получилось для третьей гипотезы."
   ]
  },
  {
   "cell_type": "code",
   "execution_count": 19,
   "metadata": {},
   "outputs": [
    {
     "data": {
      "text/html": [
       "<div>\n",
       "<style scoped>\n",
       "    .dataframe tbody tr th:only-of-type {\n",
       "        vertical-align: middle;\n",
       "    }\n",
       "\n",
       "    .dataframe tbody tr th {\n",
       "        vertical-align: top;\n",
       "    }\n",
       "\n",
       "    .dataframe thead th {\n",
       "        text-align: right;\n",
       "    }\n",
       "</style>\n",
       "<table border=\"1\" class=\"dataframe\">\n",
       "  <thead>\n",
       "    <tr style=\"text-align: right;\">\n",
       "      <th>debt</th>\n",
       "      <th>people_without_debt_no</th>\n",
       "      <th>people_with_debt_no</th>\n",
       "      <th>people_total</th>\n",
       "      <th>people_without_debt_per</th>\n",
       "      <th>people_with_debt_per</th>\n",
       "    </tr>\n",
       "    <tr>\n",
       "      <th>total_income_category</th>\n",
       "      <th></th>\n",
       "      <th></th>\n",
       "      <th></th>\n",
       "      <th></th>\n",
       "      <th></th>\n",
       "    </tr>\n",
       "  </thead>\n",
       "  <tbody>\n",
       "    <tr>\n",
       "      <th>D</th>\n",
       "      <td>329</td>\n",
       "      <td>21</td>\n",
       "      <td>350</td>\n",
       "      <td>0.940000</td>\n",
       "      <td>0.060000</td>\n",
       "    </tr>\n",
       "    <tr>\n",
       "      <th>B</th>\n",
       "      <td>5158</td>\n",
       "      <td>386</td>\n",
       "      <td>5544</td>\n",
       "      <td>0.930375</td>\n",
       "      <td>0.069625</td>\n",
       "    </tr>\n",
       "    <tr>\n",
       "      <th>A</th>\n",
       "      <td>23</td>\n",
       "      <td>2</td>\n",
       "      <td>25</td>\n",
       "      <td>0.920000</td>\n",
       "      <td>0.080000</td>\n",
       "    </tr>\n",
       "    <tr>\n",
       "      <th>C</th>\n",
       "      <td>14199</td>\n",
       "      <td>1330</td>\n",
       "      <td>15529</td>\n",
       "      <td>0.914354</td>\n",
       "      <td>0.085646</td>\n",
       "    </tr>\n",
       "    <tr>\n",
       "      <th>E</th>\n",
       "      <td>20</td>\n",
       "      <td>2</td>\n",
       "      <td>22</td>\n",
       "      <td>0.909091</td>\n",
       "      <td>0.090909</td>\n",
       "    </tr>\n",
       "  </tbody>\n",
       "</table>\n",
       "</div>"
      ],
      "text/plain": [
       "debt                   people_without_debt_no  people_with_debt_no  \\\n",
       "total_income_category                                                \n",
       "D                                         329                   21   \n",
       "B                                        5158                  386   \n",
       "A                                          23                    2   \n",
       "C                                       14199                 1330   \n",
       "E                                          20                    2   \n",
       "\n",
       "debt                   people_total  people_without_debt_per  \\\n",
       "total_income_category                                          \n",
       "D                               350                 0.940000   \n",
       "B                              5544                 0.930375   \n",
       "A                                25                 0.920000   \n",
       "C                             15529                 0.914354   \n",
       "E                                22                 0.909091   \n",
       "\n",
       "debt                   people_with_debt_per  \n",
       "total_income_category                        \n",
       "D                                  0.060000  \n",
       "B                                  0.069625  \n",
       "A                                  0.080000  \n",
       "C                                  0.085646  \n",
       "E                                  0.090909  "
      ]
     },
     "metadata": {},
     "output_type": "display_data"
    }
   ],
   "source": [
    "display( fun_counter( df, 'total_income_category' ) )"
   ]
  },
  {
   "cell_type": "markdown",
   "metadata": {},
   "source": [
    "Опять некоторые категгории получились очень маленькими - всего 25 людей в категории по доходу 'A' (что ожидаемо).\n",
    "\n",
    "**Вывод:** В этом случае у нас тоже есть зависимость, хотя и не совсем, как я ожидал. Видно, что люди с наименьшим доходом имеют самую низкую вероятность возврата кредита (все еще около 90%). В то время как более высокий доход может значительно это вероятность повысить (до 93% в случае 'B'). Интересно, что первую строчку у нас все равно заняла категория 'D'."
   ]
  },
  {
   "cell_type": "markdown",
   "metadata": {},
   "source": [
    "## Выводы\n",
    "\n",
    "В этом проекте я прошел весь цикл анализа данных: от загрузки до проверки гипотез. В первой части, я вычистил данные: привел к стандартному виду, разобрался с пустыми значениями, убрал дубликаты, сделал разные категории. Это была самая трудозатратная часть. Во второй части, я провел относительно простой анализ и сравнил вероятность возвращения кредита в срок для разных срезов в данных.\n",
    "\n",
    "В итоге, мы получили, что количество детей слабо влияет на вероятность возврата кредита (хотя есть небольшая зависимость - чем больше детей, тем вероятность возврата ниже). Вероятно, это связано с дополнительными расходами на содержание ребенка.\n",
    "\n",
    "Семейный статус оказаывает заметное влияние: так люди, состоящие в зарегистрированных отношениях более чаще возвращают кредиты. Вероятно, это связно с некоторым \"взрослением\" которое сопровождает решение вступить в брак.\n",
    "\n",
    "Наконец, уровень дохода также может оказать влияние на вероятность возврата кредита: как можно ожидать, чем меньше доход - тем (примерно) вероятность меньше. Исключение составляет категория 'D', которая оказалась самой надежной. Возможно, здесь бы следовало пересмотреть группировку по доходу: как-то неравномерно у нас распределились заявители."
   ]
  }
 ],
 "metadata": {
  "kernelspec": {
   "display_name": "Python 3",
   "language": "python",
   "name": "python3"
  },
  "language_info": {
   "codemirror_mode": {
    "name": "ipython",
    "version": 3
   },
   "file_extension": ".py",
   "mimetype": "text/x-python",
   "name": "python",
   "nbconvert_exporter": "python",
   "pygments_lexer": "ipython3",
   "version": "3.9.7"
  }
 },
 "nbformat": 4,
 "nbformat_minor": 0
}
